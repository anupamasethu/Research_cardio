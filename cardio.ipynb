{
  "nbformat": 4,
  "nbformat_minor": 0,
  "metadata": {
    "colab": {
      "provenance": []
    },
    "kernelspec": {
      "name": "python3",
      "display_name": "Python 3"
    },
    "language_info": {
      "name": "python"
    }
  },
  "cells": [
    {
      "cell_type": "code",
      "execution_count": null,
      "metadata": {
        "id": "5B7flpQ_9MkN"
      },
      "outputs": [],
      "source": [
        "#importing all the required libraries\n",
        "import numpy as np\n",
        "import matplotlib.pyplot as plt\n",
        "import pandas as pd\n",
        "import seaborn as sns\n",
        "import sklearn\n",
        "from sklearn import preprocessing\n",
        "from sklearn.preprocessing import LabelEncoder\n",
        "from sklearn.preprocessing import StandardScaler\n",
        "from sklearn.metrics import accuracy_score, classification_report, confusion_matrix"
      ]
    },
    {
      "cell_type": "code",
      "source": [
        "df = pd.read_csv('/content/cardio.csv')\n",
        "df.info()"
      ],
      "metadata": {
        "colab": {
          "base_uri": "https://localhost:8080/"
        },
        "id": "B32cEVOr9ZYc",
        "outputId": "815cb116-083e-4b25-bf20-07d762f918af"
      },
      "execution_count": null,
      "outputs": [
        {
          "output_type": "stream",
          "name": "stdout",
          "text": [
            "<class 'pandas.core.frame.DataFrame'>\n",
            "RangeIndex: 1598 entries, 0 to 1597\n",
            "Data columns (total 16 columns):\n",
            " #   Column                   Non-Null Count  Dtype  \n",
            "---  ------                   --------------  -----  \n",
            " 0   PatientID                1598 non-null   float64\n",
            " 1   Age                      1598 non-null   int64  \n",
            " 2   Sex                      1598 non-null   int64  \n",
            " 3   Chest pain type          1598 non-null   int64  \n",
            " 4   BP                       1598 non-null   int64  \n",
            " 5   Cholesterol              1598 non-null   int64  \n",
            " 6   FBS over 120             1598 non-null   int64  \n",
            " 7   EKG results              1598 non-null   int64  \n",
            " 8   Max HR                   1598 non-null   int64  \n",
            " 9   Exercise angina          1598 non-null   int64  \n",
            " 10  ST depression            1598 non-null   float64\n",
            " 11  oldpeak                  1598 non-null   float64\n",
            " 12  Slope of ST              1598 non-null   int64  \n",
            " 13  Number of vessels fluro  1598 non-null   int64  \n",
            " 14  Thallium                 1598 non-null   int64  \n",
            " 15  Heart Disease            1598 non-null   object \n",
            "dtypes: float64(3), int64(12), object(1)\n",
            "memory usage: 199.9+ KB\n"
          ]
        }
      ]
    },
    {
      "cell_type": "code",
      "source": [
        "df.columns = df.columns.str.replace(' ', '')\n",
        "df.info()"
      ],
      "metadata": {
        "colab": {
          "base_uri": "https://localhost:8080/"
        },
        "id": "5MXjXFZN9mSG",
        "outputId": "1b25db5d-c15c-4efe-dc8d-58ccdbdf3836"
      },
      "execution_count": null,
      "outputs": [
        {
          "output_type": "stream",
          "name": "stdout",
          "text": [
            "<class 'pandas.core.frame.DataFrame'>\n",
            "RangeIndex: 1598 entries, 0 to 1597\n",
            "Data columns (total 16 columns):\n",
            " #   Column                Non-Null Count  Dtype  \n",
            "---  ------                --------------  -----  \n",
            " 0   PatientID             1598 non-null   float64\n",
            " 1   Age                   1598 non-null   int64  \n",
            " 2   Sex                   1598 non-null   int64  \n",
            " 3   Chestpaintype         1598 non-null   int64  \n",
            " 4   BP                    1598 non-null   int64  \n",
            " 5   Cholesterol           1598 non-null   int64  \n",
            " 6   FBSover120            1598 non-null   int64  \n",
            " 7   EKGresults            1598 non-null   int64  \n",
            " 8   MaxHR                 1598 non-null   int64  \n",
            " 9   Exerciseangina        1598 non-null   int64  \n",
            " 10  STdepression          1598 non-null   float64\n",
            " 11  oldpeak               1598 non-null   float64\n",
            " 12  SlopeofST             1598 non-null   int64  \n",
            " 13  Numberofvesselsfluro  1598 non-null   int64  \n",
            " 14  Thallium              1598 non-null   int64  \n",
            " 15  HeartDisease          1598 non-null   object \n",
            "dtypes: float64(3), int64(12), object(1)\n",
            "memory usage: 199.9+ KB\n"
          ]
        }
      ]
    },
    {
      "cell_type": "code",
      "source": [
        "df['PatientID'] = df['PatientID'].astype(int)\n",
        "df['STdepression'] = df['STdepression'].astype(int)\n",
        "df['oldpeak'] = df['oldpeak'].astype(int)\n",
        "df.info()"
      ],
      "metadata": {
        "colab": {
          "base_uri": "https://localhost:8080/"
        },
        "id": "2Rh4ecAeAe6O",
        "outputId": "34d6ad7a-5e31-4976-e62f-9ed5c886a41c"
      },
      "execution_count": null,
      "outputs": [
        {
          "output_type": "stream",
          "name": "stdout",
          "text": [
            "<class 'pandas.core.frame.DataFrame'>\n",
            "RangeIndex: 1598 entries, 0 to 1597\n",
            "Data columns (total 16 columns):\n",
            " #   Column                Non-Null Count  Dtype \n",
            "---  ------                --------------  ----- \n",
            " 0   PatientID             1598 non-null   int64 \n",
            " 1   Age                   1598 non-null   int64 \n",
            " 2   Sex                   1598 non-null   int64 \n",
            " 3   Chestpaintype         1598 non-null   int64 \n",
            " 4   BP                    1598 non-null   int64 \n",
            " 5   Cholesterol           1598 non-null   int64 \n",
            " 6   FBSover120            1598 non-null   int64 \n",
            " 7   EKGresults            1598 non-null   int64 \n",
            " 8   MaxHR                 1598 non-null   int64 \n",
            " 9   Exerciseangina        1598 non-null   int64 \n",
            " 10  STdepression          1598 non-null   int64 \n",
            " 11  oldpeak               1598 non-null   int64 \n",
            " 12  SlopeofST             1598 non-null   int64 \n",
            " 13  Numberofvesselsfluro  1598 non-null   int64 \n",
            " 14  Thallium              1598 non-null   int64 \n",
            " 15  HeartDisease          1598 non-null   object\n",
            "dtypes: int64(15), object(1)\n",
            "memory usage: 199.9+ KB\n"
          ]
        }
      ]
    },
    {
      "cell_type": "code",
      "source": [
        "df.isnull().sum()"
      ],
      "metadata": {
        "colab": {
          "base_uri": "https://localhost:8080/"
        },
        "id": "TYPItz1k9tU5",
        "outputId": "89ad2443-802a-4837-dedd-87073bac4d9b"
      },
      "execution_count": null,
      "outputs": [
        {
          "output_type": "execute_result",
          "data": {
            "text/plain": [
              "PatientID               0\n",
              "Age                     0\n",
              "Sex                     0\n",
              "Chestpaintype           0\n",
              "BP                      0\n",
              "Cholesterol             0\n",
              "FBSover120              0\n",
              "EKGresults              0\n",
              "MaxHR                   0\n",
              "Exerciseangina          0\n",
              "STdepression            0\n",
              "oldpeak                 0\n",
              "SlopeofST               0\n",
              "Numberofvesselsfluro    0\n",
              "Thallium                0\n",
              "HeartDisease            0\n",
              "dtype: int64"
            ]
          },
          "metadata": {},
          "execution_count": 7
        }
      ]
    },
    {
      "cell_type": "code",
      "source": [
        "# Histogram for age\n",
        "plt.hist(df['Age'], bins=30, edgecolor='black', color='blue')\n",
        "plt.title('Age Distribution')\n",
        "plt.xlabel('Age')\n",
        "plt.ylabel('Count')\n",
        "plt.show()"
      ],
      "metadata": {
        "colab": {
          "base_uri": "https://localhost:8080/",
          "height": 472
        },
        "id": "kgIQQsOXBpN8",
        "outputId": "fe028f98-5725-4ec2-dc05-47ae46f9db98"
      },
      "execution_count": null,
      "outputs": [
        {
          "output_type": "display_data",
          "data": {
            "text/plain": [
              "<Figure size 640x480 with 1 Axes>"
            ],
            "image/png": "[encoded data removed]"
          },
          "metadata": {}
        }
      ]
    },
    {
      "cell_type": "code",
      "source": [
        "df['HeartDisease'].value_counts()"
      ],
      "metadata": {
        "colab": {
          "base_uri": "https://localhost:8080/"
        },
        "id": "l1I8eD_zBta0",
        "outputId": "7342adc2-1083-44bd-8abb-efd1482d6c23"
      },
      "execution_count": null,
      "outputs": [
        {
          "output_type": "execute_result",
          "data": {
            "text/plain": [
              "Presence    811\n",
              "Absence     787\n",
              "Name: HeartDisease, dtype: int64"
            ]
          },
          "metadata": {},
          "execution_count": 9
        }
      ]
    },
    {
      "cell_type": "code",
      "source": [
        "# Count plots for binary variables\n",
        "for col in [ 'HeartDisease']:\n",
        "    sns.countplot(x=col, data=df,palette='Set1')\n",
        "    plt.title(f'{col} Distribution')\n",
        "    plt.show()"
      ],
      "metadata": {
        "colab": {
          "base_uri": "https://localhost:8080/",
          "height": 579
        },
        "id": "XL7hLnsoBxaD",
        "outputId": "0b0434a8-d352-469c-a57e-91a3ab4e6004"
      },
      "execution_count": null,
      "outputs": [
        {
          "output_type": "stream",
          "name": "stderr",
          "text": [
            "<ipython-input-10-c283bfdb44d7>:3: FutureWarning: \n",
            "\n",
            "Passing `palette` without assigning `hue` is deprecated and will be removed in v0.14.0. Assign the `x` variable to `hue` and set `legend=False` for the same effect.\n",
            "\n",
            "  sns.countplot(x=col, data=df,palette='Set1')\n"
          ]
        },
        {
          "output_type": "display_data",
          "data": {
            "text/plain": [
              "<Figure size 640x480 with 1 Axes>"
            ],
            "image/png": "[encoded data removed]"
          },
          "metadata": {}
        }
      ]
    },
    {
      "cell_type": "code",
      "source": [
        "#converting labeldata\n",
        "le = preprocessing.LabelEncoder()\n",
        "df.HeartDisease = le.fit_transform(df.HeartDisease)\n",
        "df['HeartDisease'] = le.fit_transform(df['HeartDisease'])\n",
        "df.info()"
      ],
      "metadata": {
        "colab": {
          "base_uri": "https://localhost:8080/"
        },
        "id": "loQSuzxrB1Z3",
        "outputId": "f5532ad3-f705-496d-f146-5bf550ab82fa"
      },
      "execution_count": null,
      "outputs": [
        {
          "output_type": "stream",
          "name": "stdout",
          "text": [
            "<class 'pandas.core.frame.DataFrame'>\n",
            "RangeIndex: 1598 entries, 0 to 1597\n",
            "Data columns (total 16 columns):\n",
            " #   Column                Non-Null Count  Dtype\n",
            "---  ------                --------------  -----\n",
            " 0   PatientID             1598 non-null   int64\n",
            " 1   Age                   1598 non-null   int64\n",
            " 2   Sex                   1598 non-null   int64\n",
            " 3   Chestpaintype         1598 non-null   int64\n",
            " 4   BP                    1598 non-null   int64\n",
            " 5   Cholesterol           1598 non-null   int64\n",
            " 6   FBSover120            1598 non-null   int64\n",
            " 7   EKGresults            1598 non-null   int64\n",
            " 8   MaxHR                 1598 non-null   int64\n",
            " 9   Exerciseangina        1598 non-null   int64\n",
            " 10  STdepression          1598 non-null   int64\n",
            " 11  oldpeak               1598 non-null   int64\n",
            " 12  SlopeofST             1598 non-null   int64\n",
            " 13  Numberofvesselsfluro  1598 non-null   int64\n",
            " 14  Thallium              1598 non-null   int64\n",
            " 15  HeartDisease          1598 non-null   int64\n",
            "dtypes: int64(16)\n",
            "memory usage: 199.9 KB\n"
          ]
        }
      ]
    },
    {
      "cell_type": "code",
      "source": [
        "# Compute the correlation matrix\n",
        "correlation_matrix = df.corr()\n",
        "#Graph I.\n",
        "plt.figure(figsize=(15, 10))\n",
        "sns.heatmap(correlation_matrix, annot=True, cmap='coolwarm', linewidths=0.5, fmt='.2f')\n",
        "plt.title(\"Correlation Matrix Heatmap\")\n",
        "plt.show()\n"
      ],
      "metadata": {
        "colab": {
          "base_uri": "https://localhost:8080/",
          "height": 932
        },
        "id": "Pwg9bHX3B5PB",
        "outputId": "210f139e-ca57-4110-875a-c31c94d5defd"
      },
      "execution_count": null,
      "outputs": [
        {
          "output_type": "display_data",
          "data": {
            "text/plain": [
              "<Figure size 1500x1000 with 2 Axes>"
            ],
            "image/png": "[encoded data removed]"
          },
          "metadata": {}
        }
      ]
    },
    {
      "cell_type": "markdown",
      "source": [
        "# **KNN**"
      ],
      "metadata": {
        "id": "sTq0FXd6B9FY"
      }
    },
    {
      "cell_type": "code",
      "source": [
        "#splitting dataset to x and y\n",
        "x = df.iloc[:,[0,1,2,3,4,5,6,7,8,9,10,11,12,13,14]].values\n",
        "y = df.iloc[:,15].values\n",
        "print(x[0])\n",
        "print(y[0])"
      ],
      "metadata": {
        "colab": {
          "base_uri": "https://localhost:8080/"
        },
        "id": "2bJkwfgVB7q5",
        "outputId": "7c64bf54-d566-44e8-df7c-37d70eb7485b"
      },
      "execution_count": null,
      "outputs": [
        {
          "output_type": "stream",
          "name": "stdout",
          "text": [
            "[100000     70      1      4    130    322      0      2    109      0\n",
            "      2      5      2      3      3]\n",
            "1\n"
          ]
        }
      ]
    },
    {
      "cell_type": "code",
      "source": [
        "#X and Y split into train set with 80% and test set with 20% of test size\n",
        "from sklearn.model_selection import train_test_split\n",
        "# Intentionally reduce the training dataset size\n",
        "x_train, x_test, y_train, y_test = train_test_split(x, y, test_size=0.2, random_state=42)\n",
        "print(x_train[0])\n",
        "print(x_test[0])"
      ],
      "metadata": {
        "colab": {
          "base_uri": "https://localhost:8080/"
        },
        "id": "u29j0HMJCUVJ",
        "outputId": "b2525ca2-f12a-4196-f974-0f19e6f293ca"
      },
      "execution_count": null,
      "outputs": [
        {
          "output_type": "stream",
          "name": "stdout",
          "text": [
            "[4693889      56       0       0     200     288       1       0     133\n",
            "       1       4       3       0       2       3]\n",
            "[7991574      58       1       0     125     300       0       0     171\n",
            "       0       0       1       2       2       3]\n"
          ]
        }
      ]
    },
    {
      "cell_type": "code",
      "source": [
        "# The X samples are normalizing to a common scale\n",
        "sc=StandardScaler()\n",
        "x_train=sc.fit_transform(x_train)\n",
        "x_test=sc.fit_transform(x_test)\n",
        "print(x_train[0])\n",
        "print(x_test[0])"
      ],
      "metadata": {
        "colab": {
          "base_uri": "https://localhost:8080/"
        },
        "id": "a0CDzVoQCXgJ",
        "outputId": "b2618e8d-90d3-46a2-efe9-f14b90883213"
      },
      "execution_count": null,
      "outputs": [
        {
          "output_type": "stream",
          "name": "stdout",
          "text": [
            "[-0.68537538  0.18490126 -1.52581945 -0.99262483  3.86710846  0.80956534\n",
            "  2.33549683 -0.91877954 -0.69903559  1.38725813  2.98499168  0.41918304\n",
            " -2.26028657  1.23658227  0.19740918]\n",
            "[ 0.04075248  0.34915352  0.72876641 -1.07049803 -0.33201954  0.99134737\n",
            " -0.37796447 -0.98617622  0.9205402  -0.65465367 -0.71214955 -0.68549243\n",
            "  0.94763096  1.2872627   0.27005058]\n"
          ]
        }
      ]
    },
    {
      "cell_type": "code",
      "source": [
        "# Now data set is ready to implement classifiers\n",
        "# KNN- K-value is 5 and metric use here is 'minkowski'\n",
        "# Training the model with X_train and Y_train with the code 'knnclf.fit'\n",
        "from sklearn import neighbors\n",
        "from sklearn.neighbors import KNeighborsClassifier\n",
        "knn=KNeighborsClassifier(n_neighbors=7,metric ='minkowski',p=2)\n",
        "knn.fit(x_train,y_train)"
      ],
      "metadata": {
        "colab": {
          "base_uri": "https://localhost:8080/",
          "height": 74
        },
        "id": "HNdICulVCaaR",
        "outputId": "e21016a9-ad4a-43bd-8d15-e9788a6555af"
      },
      "execution_count": null,
      "outputs": [
        {
          "output_type": "execute_result",
          "data": {
            "text/plain": [
              "KNeighborsClassifier(n_neighbors=7)"
            ],
            "text/html": [
              "<style>#sk-container-id-1 {color: black;background-color: white;}#sk-container-id-1 pre{padding: 0;}#sk-container-id-1 div.sk-toggleable {background-color: white;}#sk-container-id-1 label.sk-toggleable__label {cursor: pointer;display: block;width: 100%;margin-bottom: 0;padding: 0.3em;box-sizing: border-box;text-align: center;}#sk-container-id-1 label.sk-toggleable__label-arrow:before {content: \"▸\";float: left;margin-right: 0.25em;color: #696969;}#sk-container-id-1 label.sk-toggleable__label-arrow:hover:before {color: black;}#sk-container-id-1 div.sk-estimator:hover label.sk-toggleable__label-arrow:before {color: black;}#sk-container-id-1 div.sk-toggleable__content {max-height: 0;max-width: 0;overflow: hidden;text-align: left;background-color: #f0f8ff;}#sk-container-id-1 div.sk-toggleable__content pre {margin: 0.2em;color: black;border-radius: 0.25em;background-color: #f0f8ff;}#sk-container-id-1 input.sk-toggleable__control:checked~div.sk-toggleable__content {max-height: 200px;max-width: 100%;overflow: auto;}#sk-container-id-1 input.sk-toggleable__control:checked~label.sk-toggleable__label-arrow:before {content: \"▾\";}#sk-container-id-1 div.sk-estimator input.sk-toggleable__control:checked~label.sk-toggleable__label {background-color: #d4ebff;}#sk-container-id-1 div.sk-label input.sk-toggleable__control:checked~label.sk-toggleable__label {background-color: #d4ebff;}#sk-container-id-1 input.sk-hidden--visually {border: 0;clip: rect(1px 1px 1px 1px);clip: rect(1px, 1px, 1px, 1px);height: 1px;margin: -1px;overflow: hidden;padding: 0;position: absolute;width: 1px;}#sk-container-id-1 div.sk-estimator {font-family: monospace;background-color: #f0f8ff;border: 1px dotted black;border-radius: 0.25em;box-sizing: border-box;margin-bottom: 0.5em;}#sk-container-id-1 div.sk-estimator:hover {background-color: #d4ebff;}#sk-container-id-1 div.sk-parallel-item::after {content: \"\";width: 100%;border-bottom: 1px solid gray;flex-grow: 1;}#sk-container-id-1 div.sk-label:hover label.sk-toggleable__label {background-color: #d4ebff;}#sk-container-id-1 div.sk-serial::before {content: \"\";position: absolute;border-left: 1px solid gray;box-sizing: border-box;top: 0;bottom: 0;left: 50%;z-index: 0;}#sk-container-id-1 div.sk-serial {display: flex;flex-direction: column;align-items: center;background-color: white;padding-right: 0.2em;padding-left: 0.2em;position: relative;}#sk-container-id-1 div.sk-item {position: relative;z-index: 1;}#sk-container-id-1 div.sk-parallel {display: flex;align-items: stretch;justify-content: center;background-color: white;position: relative;}#sk-container-id-1 div.sk-item::before, #sk-container-id-1 div.sk-parallel-item::before {content: \"\";position: absolute;border-left: 1px solid gray;box-sizing: border-box;top: 0;bottom: 0;left: 50%;z-index: -1;}#sk-container-id-1 div.sk-parallel-item {display: flex;flex-direction: column;z-index: 1;position: relative;background-color: white;}#sk-container-id-1 div.sk-parallel-item:first-child::after {align-self: flex-end;width: 50%;}#sk-container-id-1 div.sk-parallel-item:last-child::after {align-self: flex-start;width: 50%;}#sk-container-id-1 div.sk-parallel-item:only-child::after {width: 0;}#sk-container-id-1 div.sk-dashed-wrapped {border: 1px dashed gray;margin: 0 0.4em 0.5em 0.4em;box-sizing: border-box;padding-bottom: 0.4em;background-color: white;}#sk-container-id-1 div.sk-label label {font-family: monospace;font-weight: bold;display: inline-block;line-height: 1.2em;}#sk-container-id-1 div.sk-label-container {text-align: center;}#sk-container-id-1 div.sk-container {/* jupyter's `normalize.less` sets `[hidden] { display: none; }` but bootstrap.min.css set `[hidden] { display: none !important; }` so we also need the `!important` here to be able to override the default hidden behavior on the sphinx rendered scikit-learn.org. See: https://github.com/scikit-learn/scikit-learn/issues/21755 */display: inline-block !important;position: relative;}#sk-container-id-1 div.sk-text-repr-fallback {display: none;}</style><div id=\"sk-container-id-1\" class=\"sk-top-container\"><div class=\"sk-text-repr-fallback\"><pre>KNeighborsClassifier(n_neighbors=7)</pre><b>In a Jupyter environment, please rerun this cell to show the HTML representation or trust the notebook. <br />On GitHub, the HTML representation is unable to render, please try loading this page with nbviewer.org.</b></div><div class=\"sk-container\" hidden><div class=\"sk-item\"><div class=\"sk-estimator sk-toggleable\"><input class=\"sk-toggleable__control sk-hidden--visually\" id=\"sk-estimator-id-1\" type=\"checkbox\" checked><label for=\"sk-estimator-id-1\" class=\"sk-toggleable__label sk-toggleable__label-arrow\">KNeighborsClassifier</label><div class=\"sk-toggleable__content\"><pre>KNeighborsClassifier(n_neighbors=7)</pre></div></div></div></div></div>"
            ]
          },
          "metadata": {},
          "execution_count": 31
        }
      ]
    },
    {
      "cell_type": "code",
      "source": [
        "#Trained model is predicting the labels for X_test from KNN\n",
        "ypred_KNN = knn.predict(x_test)\n",
        "ypred_KNN"
      ],
      "metadata": {
        "colab": {
          "base_uri": "https://localhost:8080/"
        },
        "id": "TzZXHu1qCeGD",
        "outputId": "4a6c0eb9-6eac-46f1-b51d-c94d202a1eab"
      },
      "execution_count": null,
      "outputs": [
        {
          "output_type": "execute_result",
          "data": {
            "text/plain": [
              "array([0, 1, 1, 0, 1, 1, 1, 1, 1, 0, 0, 0, 0, 0, 1, 0, 1, 1, 0, 0, 1, 1,\n",
              "       0, 0, 0, 1, 0, 0, 1, 0, 0, 1, 0, 0, 0, 1, 0, 0, 1, 1, 1, 0, 1, 0,\n",
              "       0, 0, 0, 1, 0, 1, 0, 1, 0, 0, 1, 0, 1, 1, 1, 0, 1, 1, 1, 1, 1, 1,\n",
              "       1, 1, 0, 1, 1, 1, 1, 0, 0, 1, 0, 0, 1, 1, 1, 1, 0, 1, 1, 1, 0, 1,\n",
              "       0, 1, 1, 1, 0, 0, 1, 0, 0, 0, 0, 0, 1, 1, 0, 1, 0, 0, 0, 1, 0, 1,\n",
              "       1, 0, 1, 0, 1, 1, 1, 0, 1, 0, 0, 1, 0, 1, 1, 1, 1, 0, 1, 0, 1, 1,\n",
              "       0, 0, 1, 0, 1, 1, 0, 1, 0, 0, 0, 0, 0, 0, 1, 1, 0, 1, 0, 1, 1, 0,\n",
              "       0, 0, 1, 1, 1, 0, 0, 0, 0, 0, 0, 1, 0, 0, 1, 1, 1, 0, 0, 1, 0, 1,\n",
              "       0, 0, 0, 1, 1, 1, 0, 1, 1, 1, 1, 0, 1, 1, 0, 1, 1, 1, 1, 1, 1, 0,\n",
              "       0, 1, 0, 1, 1, 0, 0, 1, 1, 1, 0, 0, 0, 0, 1, 0, 1, 1, 1, 1, 1, 1,\n",
              "       1, 1, 0, 0, 1, 1, 1, 1, 1, 1, 1, 1, 0, 1, 0, 1, 1, 1, 0, 0, 1, 1,\n",
              "       0, 0, 0, 1, 0, 0, 1, 0, 1, 1, 1, 0, 0, 1, 1, 0, 1, 1, 1, 1, 1, 1,\n",
              "       0, 1, 1, 0, 0, 1, 1, 0, 0, 0, 1, 0, 0, 1, 0, 1, 1, 1, 0, 1, 0, 1,\n",
              "       1, 0, 1, 0, 0, 1, 0, 0, 1, 1, 1, 1, 0, 1, 0, 1, 0, 0, 0, 1, 1, 1,\n",
              "       1, 0, 1, 1, 1, 1, 0, 0, 1, 1, 0, 1])"
            ]
          },
          "metadata": {},
          "execution_count": 32
        }
      ]
    },
    {
      "cell_type": "code",
      "source": [
        "y_test"
      ],
      "metadata": {
        "colab": {
          "base_uri": "https://localhost:8080/"
        },
        "id": "A7zlqkUjChaO",
        "outputId": "8d875758-e09b-42ee-d37a-c0b6d0c32eaf"
      },
      "execution_count": null,
      "outputs": [
        {
          "output_type": "execute_result",
          "data": {
            "text/plain": [
              "array([0, 0, 1, 0, 1, 1, 0, 1, 1, 0, 0, 0, 0, 0, 1, 0, 1, 1, 0, 0, 1, 0,\n",
              "       1, 0, 0, 1, 0, 0, 1, 1, 0, 1, 1, 0, 0, 0, 0, 0, 0, 1, 1, 0, 1, 0,\n",
              "       0, 1, 0, 1, 1, 1, 1, 1, 0, 0, 0, 0, 1, 1, 1, 0, 1, 1, 1, 1, 1, 1,\n",
              "       1, 1, 0, 1, 1, 1, 1, 1, 0, 0, 0, 0, 1, 0, 1, 1, 1, 1, 1, 1, 0, 1,\n",
              "       1, 1, 1, 1, 0, 0, 1, 0, 0, 1, 0, 0, 1, 1, 0, 1, 0, 0, 0, 1, 0, 1,\n",
              "       1, 0, 1, 0, 1, 1, 1, 0, 1, 0, 0, 1, 1, 1, 0, 1, 1, 0, 0, 0, 1, 1,\n",
              "       1, 0, 1, 0, 1, 1, 0, 1, 0, 0, 0, 1, 0, 0, 1, 1, 0, 1, 0, 1, 1, 0,\n",
              "       1, 0, 1, 1, 1, 0, 0, 0, 0, 1, 0, 1, 0, 0, 0, 1, 1, 0, 0, 1, 0, 1,\n",
              "       0, 0, 0, 1, 0, 1, 0, 1, 1, 1, 0, 0, 1, 1, 0, 1, 1, 1, 0, 1, 1, 0,\n",
              "       1, 1, 0, 1, 1, 0, 0, 1, 0, 0, 1, 0, 0, 0, 1, 0, 1, 1, 1, 1, 1, 1,\n",
              "       1, 1, 0, 0, 1, 1, 1, 1, 1, 0, 1, 1, 0, 1, 0, 1, 1, 1, 0, 1, 1, 0,\n",
              "       0, 0, 0, 1, 0, 0, 1, 1, 1, 1, 1, 0, 0, 1, 1, 0, 1, 1, 1, 1, 1, 1,\n",
              "       0, 1, 1, 0, 0, 1, 1, 0, 0, 0, 1, 1, 0, 1, 0, 1, 1, 1, 0, 1, 0, 1,\n",
              "       1, 0, 0, 0, 0, 1, 0, 0, 0, 1, 0, 1, 1, 1, 0, 0, 0, 0, 0, 0, 1, 1,\n",
              "       1, 1, 1, 1, 1, 1, 0, 0, 1, 1, 0, 1])"
            ]
          },
          "metadata": {},
          "execution_count": 33
        },
        {
          "output_type": "execute_result",
          "data": {
            "text/plain": [
              "array([0, 0, 1, 0, 1, 1, 0, 1, 1, 0, 0, 0, 0, 0, 1, 0, 1, 1, 0, 0, 1, 0,\n",
              "       1, 0, 0, 1, 0, 0, 1, 1, 0, 1, 1, 0, 0, 0, 0, 0, 0, 1, 1, 0, 1, 0,\n",
              "       0, 1, 0, 1, 1, 1, 1, 1, 0, 0, 0, 0, 1, 1, 1, 0, 1, 1, 1, 1, 1, 1,\n",
              "       1, 1, 0, 1, 1, 1, 1, 1, 0, 0, 0, 0, 1, 0, 1, 1, 1, 1, 1, 1, 0, 1,\n",
              "       1, 1, 1, 1, 0, 0, 1, 0, 0, 1, 0, 0, 1, 1, 0, 1, 0, 0, 0, 1, 0, 1,\n",
              "       1, 0, 1, 0, 1, 1, 1, 0, 1, 0, 0, 1, 1, 1, 0, 1, 1, 0, 0, 0, 1, 1,\n",
              "       1, 0, 1, 0, 1, 1, 0, 1, 0, 0, 0, 1, 0, 0, 1, 1, 0, 1, 0, 1, 1, 0,\n",
              "       1, 0, 1, 1, 1, 0, 0, 0, 0, 1, 0, 1, 0, 0, 0, 1, 1, 0, 0, 1, 0, 1,\n",
              "       0, 0, 0, 1, 0, 1, 0, 1, 1, 1, 0, 0, 1, 1, 0, 1, 1, 1, 0, 1, 1, 0,\n",
              "       1, 1, 0, 1, 1, 0, 0, 1, 0, 0, 1, 0, 0, 0, 1, 0, 1, 1, 1, 1, 1, 1,\n",
              "       1, 1, 0, 0, 1, 1, 1, 1, 1, 0, 1, 1, 0, 1, 0, 1, 1, 1, 0, 1, 1, 0,\n",
              "       0, 0, 0, 1, 0, 0, 1, 1, 1, 1, 1, 0, 0, 1, 1, 0, 1, 1, 1, 1, 1, 1,\n",
              "       0, 1, 1, 0, 0, 1, 1, 0, 0, 0, 1, 1, 0, 1, 0, 1, 1, 1, 0, 1, 0, 1,\n",
              "       1, 0, 0, 0, 0, 1, 0, 0, 0, 1, 0, 1, 1, 1, 0, 0, 0, 0, 0, 0, 1, 1,\n",
              "       1, 1, 1, 1, 1, 1, 0, 0, 1, 1, 0, 1])"
            ]
          },
          "metadata": {},
          "execution_count": 34
        }
      ]
    },
    {
      "cell_type": "code",
      "source": [
        "#length\n",
        "len(ypred_KNN)\n",
        "len(y_test)"
      ],
      "metadata": {
        "colab": {
          "base_uri": "https://localhost:8080/"
        },
        "id": "WmP7cgfXCpKr",
        "outputId": "5ddb3900-05a4-4acc-ebbd-5a433b12db91"
      },
      "execution_count": null,
      "outputs": [
        {
          "output_type": "execute_result",
          "data": {
            "text/plain": [
              "320"
            ]
          },
          "metadata": {},
          "execution_count": 35
        }
      ]
    },
    {
      "cell_type": "code",
      "source": [
        "#no of unmatchings\n",
        "count=0\n",
        "for i in range(30):\n",
        "  if(y_test[i]!=ypred_KNN[i]):\n",
        "    count=count+1\n",
        "print(count)"
      ],
      "metadata": {
        "colab": {
          "base_uri": "https://localhost:8080/"
        },
        "id": "uHKITwfJCsvZ",
        "outputId": "254581de-1caf-4d84-9c62-8156087e85e2"
      },
      "execution_count": null,
      "outputs": [
        {
          "output_type": "stream",
          "name": "stdout",
          "text": [
            "5\n"
          ]
        }
      ]
    },
    {
      "cell_type": "code",
      "source": [
        "#Calculating the Accuracy\n",
        "from sklearn import metrics\n",
        "from sklearn.metrics import accuracy_score\n",
        "knn_ac= accuracy_score(y_test,ypred_KNN)\n",
        "print(knn_ac)\n",
        "print(classification_report(y_test, ypred_KNN))"
      ],
      "metadata": {
        "colab": {
          "base_uri": "https://localhost:8080/"
        },
        "id": "MJodsK5RCwN3",
        "outputId": "291bb6c1-46cd-4974-88e2-0a15db4fc935"
      },
      "execution_count": null,
      "outputs": [
        {
          "output_type": "stream",
          "name": "stdout",
          "text": [
            "0.859375\n",
            "              precision    recall  f1-score   support\n",
            "\n",
            "           0       0.85      0.84      0.84       144\n",
            "           1       0.87      0.88      0.87       176\n",
            "\n",
            "    accuracy                           0.86       320\n",
            "   macro avg       0.86      0.86      0.86       320\n",
            "weighted avg       0.86      0.86      0.86       320\n",
            "\n"
          ]
        }
      ]
    },
    {
      "cell_type": "code",
      "source": [
        "# Generate a confusion matrix\n",
        "conf_matrix = confusion_matrix(y_test, ypred_KNN)\n",
        "print(\"Confusion Matrix:\")\n",
        "print(conf_matrix)"
      ],
      "metadata": {
        "colab": {
          "base_uri": "https://localhost:8080/"
        },
        "id": "XZg1bFNoC2pG",
        "outputId": "dd9ff6da-5b75-4a56-a0a0-a711ca364f48"
      },
      "execution_count": null,
      "outputs": [
        {
          "output_type": "stream",
          "name": "stdout",
          "text": [
            "Confusion Matrix:\n",
            "[[121  23]\n",
            " [ 22 154]]\n"
          ]
        }
      ]
    },
    {
      "cell_type": "code",
      "source": [
        "# Create a heatmap for the confusion matrix\n",
        "plt.figure(figsize=(6, 4))\n",
        "sns.heatmap(conf_matrix, annot=True, fmt=\"d\", cmap=\"Blues\", xticklabels=[\"Absence\", \"Presence\"],\n",
        "            yticklabels=[\"Absence\", \"Presence\"])\n",
        "plt.xlabel('Predicted')\n",
        "plt.ylabel('True')\n",
        "plt.title('Confusion Matrix Heatmap')\n",
        "plt.show()"
      ],
      "metadata": {
        "colab": {
          "base_uri": "https://localhost:8080/",
          "height": 410
        },
        "id": "bTe1W9YeC5It",
        "outputId": "4c0cf827-a80b-45d6-ae73-0b29a74c9287"
      },
      "execution_count": null,
      "outputs": [
        {
          "output_type": "display_data",
          "data": {
            "text/plain": [
              "<Figure size 600x400 with 2 Axes>"
            ],
            "image/png": "[encoded data removed]"
          },
          "metadata": {}
        }
      ]
    },
    {
      "cell_type": "markdown",
      "source": [
        "# **DECISION TREE**"
      ],
      "metadata": {
        "id": "ug6TA5lNC812"
      }
    },
    {
      "cell_type": "code",
      "source": [
        "from sklearn.tree import DecisionTreeClassifier\n",
        "clf= DecisionTreeClassifier(criterion = \"entropy\")\n",
        "#performing training\n",
        "clf.fit(x_train,y_train)"
      ],
      "metadata": {
        "colab": {
          "base_uri": "https://localhost:8080/",
          "height": 74
        },
        "id": "r4s76wz_DBB1",
        "outputId": "14654c4f-4e35-41b8-f0af-6fc6a160c85b"
      },
      "execution_count": null,
      "outputs": [
        {
          "output_type": "execute_result",
          "data": {
            "text/plain": [
              "DecisionTreeClassifier(criterion='entropy')"
            ],
            "text/html": [
              "<style>#sk-container-id-2 {color: black;background-color: white;}#sk-container-id-2 pre{padding: 0;}#sk-container-id-2 div.sk-toggleable {background-color: white;}#sk-container-id-2 label.sk-toggleable__label {cursor: pointer;display: block;width: 100%;margin-bottom: 0;padding: 0.3em;box-sizing: border-box;text-align: center;}#sk-container-id-2 label.sk-toggleable__label-arrow:before {content: \"▸\";float: left;margin-right: 0.25em;color: #696969;}#sk-container-id-2 label.sk-toggleable__label-arrow:hover:before {color: black;}#sk-container-id-2 div.sk-estimator:hover label.sk-toggleable__label-arrow:before {color: black;}#sk-container-id-2 div.sk-toggleable__content {max-height: 0;max-width: 0;overflow: hidden;text-align: left;background-color: #f0f8ff;}#sk-container-id-2 div.sk-toggleable__content pre {margin: 0.2em;color: black;border-radius: 0.25em;background-color: #f0f8ff;}#sk-container-id-2 input.sk-toggleable__control:checked~div.sk-toggleable__content {max-height: 200px;max-width: 100%;overflow: auto;}#sk-container-id-2 input.sk-toggleable__control:checked~label.sk-toggleable__label-arrow:before {content: \"▾\";}#sk-container-id-2 div.sk-estimator input.sk-toggleable__control:checked~label.sk-toggleable__label {background-color: #d4ebff;}#sk-container-id-2 div.sk-label input.sk-toggleable__control:checked~label.sk-toggleable__label {background-color: #d4ebff;}#sk-container-id-2 input.sk-hidden--visually {border: 0;clip: rect(1px 1px 1px 1px);clip: rect(1px, 1px, 1px, 1px);height: 1px;margin: -1px;overflow: hidden;padding: 0;position: absolute;width: 1px;}#sk-container-id-2 div.sk-estimator {font-family: monospace;background-color: #f0f8ff;border: 1px dotted black;border-radius: 0.25em;box-sizing: border-box;margin-bottom: 0.5em;}#sk-container-id-2 div.sk-estimator:hover {background-color: #d4ebff;}#sk-container-id-2 div.sk-parallel-item::after {content: \"\";width: 100%;border-bottom: 1px solid gray;flex-grow: 1;}#sk-container-id-2 div.sk-label:hover label.sk-toggleable__label {background-color: #d4ebff;}#sk-container-id-2 div.sk-serial::before {content: \"\";position: absolute;border-left: 1px solid gray;box-sizing: border-box;top: 0;bottom: 0;left: 50%;z-index: 0;}#sk-container-id-2 div.sk-serial {display: flex;flex-direction: column;align-items: center;background-color: white;padding-right: 0.2em;padding-left: 0.2em;position: relative;}#sk-container-id-2 div.sk-item {position: relative;z-index: 1;}#sk-container-id-2 div.sk-parallel {display: flex;align-items: stretch;justify-content: center;background-color: white;position: relative;}#sk-container-id-2 div.sk-item::before, #sk-container-id-2 div.sk-parallel-item::before {content: \"\";position: absolute;border-left: 1px solid gray;box-sizing: border-box;top: 0;bottom: 0;left: 50%;z-index: -1;}#sk-container-id-2 div.sk-parallel-item {display: flex;flex-direction: column;z-index: 1;position: relative;background-color: white;}#sk-container-id-2 div.sk-parallel-item:first-child::after {align-self: flex-end;width: 50%;}#sk-container-id-2 div.sk-parallel-item:last-child::after {align-self: flex-start;width: 50%;}#sk-container-id-2 div.sk-parallel-item:only-child::after {width: 0;}#sk-container-id-2 div.sk-dashed-wrapped {border: 1px dashed gray;margin: 0 0.4em 0.5em 0.4em;box-sizing: border-box;padding-bottom: 0.4em;background-color: white;}#sk-container-id-2 div.sk-label label {font-family: monospace;font-weight: bold;display: inline-block;line-height: 1.2em;}#sk-container-id-2 div.sk-label-container {text-align: center;}#sk-container-id-2 div.sk-container {/* jupyter's `normalize.less` sets `[hidden] { display: none; }` but bootstrap.min.css set `[hidden] { display: none !important; }` so we also need the `!important` here to be able to override the default hidden behavior on the sphinx rendered scikit-learn.org. See: https://github.com/scikit-learn/scikit-learn/issues/21755 */display: inline-block !important;position: relative;}#sk-container-id-2 div.sk-text-repr-fallback {display: none;}</style><div id=\"sk-container-id-2\" class=\"sk-top-container\"><div class=\"sk-text-repr-fallback\"><pre>DecisionTreeClassifier(criterion=&#x27;entropy&#x27;)</pre><b>In a Jupyter environment, please rerun this cell to show the HTML representation or trust the notebook. <br />On GitHub, the HTML representation is unable to render, please try loading this page with nbviewer.org.</b></div><div class=\"sk-container\" hidden><div class=\"sk-item\"><div class=\"sk-estimator sk-toggleable\"><input class=\"sk-toggleable__control sk-hidden--visually\" id=\"sk-estimator-id-2\" type=\"checkbox\" checked><label for=\"sk-estimator-id-2\" class=\"sk-toggleable__label sk-toggleable__label-arrow\">DecisionTreeClassifier</label><div class=\"sk-toggleable__content\"><pre>DecisionTreeClassifier(criterion=&#x27;entropy&#x27;)</pre></div></div></div></div></div>"
            ]
          },
          "metadata": {},
          "execution_count": 40
        }
      ]
    },
    {
      "cell_type": "code",
      "source": [
        "#predicting\n",
        "y_pred = clf.predict(x_test)\n",
        "y_pred"
      ],
      "metadata": {
        "colab": {
          "base_uri": "https://localhost:8080/"
        },
        "id": "ckbJIzWXDETQ",
        "outputId": "7be6c0c4-cd9d-45b3-c821-d36835cb1477"
      },
      "execution_count": null,
      "outputs": [
        {
          "output_type": "execute_result",
          "data": {
            "text/plain": [
              "array([0, 0, 1, 1, 1, 1, 0, 1, 1, 0, 0, 0, 0, 0, 1, 0, 1, 1, 0, 1, 1, 0,\n",
              "       1, 0, 1, 1, 0, 0, 1, 1, 0, 1, 1, 0, 0, 1, 0, 0, 0, 1, 1, 0, 1, 0,\n",
              "       0, 0, 0, 1, 1, 1, 1, 1, 0, 0, 0, 0, 1, 1, 1, 1, 1, 1, 1, 0, 1, 1,\n",
              "       1, 1, 0, 1, 1, 1, 1, 1, 0, 0, 0, 0, 1, 0, 1, 1, 1, 1, 1, 1, 0, 1,\n",
              "       1, 1, 1, 1, 0, 0, 1, 0, 0, 1, 0, 0, 1, 1, 0, 1, 0, 0, 0, 1, 0, 1,\n",
              "       1, 0, 1, 0, 1, 1, 1, 1, 1, 0, 0, 1, 1, 1, 0, 1, 1, 0, 1, 0, 1, 1,\n",
              "       1, 0, 0, 0, 1, 1, 0, 1, 0, 0, 0, 0, 0, 0, 1, 1, 0, 1, 0, 1, 0, 0,\n",
              "       1, 0, 1, 1, 1, 0, 0, 0, 0, 1, 0, 1, 0, 0, 0, 1, 1, 0, 0, 1, 0, 1,\n",
              "       0, 0, 0, 0, 1, 1, 0, 1, 1, 1, 1, 0, 1, 1, 0, 1, 1, 1, 0, 1, 1, 0,\n",
              "       1, 1, 0, 1, 1, 0, 0, 1, 1, 0, 1, 0, 0, 0, 1, 0, 1, 1, 1, 1, 1, 1,\n",
              "       1, 1, 0, 0, 0, 1, 1, 1, 1, 1, 1, 0, 0, 1, 0, 1, 1, 1, 0, 1, 1, 0,\n",
              "       0, 0, 0, 1, 1, 0, 1, 1, 1, 1, 1, 0, 0, 0, 1, 0, 1, 1, 1, 1, 1, 1,\n",
              "       0, 1, 1, 0, 0, 1, 1, 0, 0, 0, 1, 0, 0, 1, 0, 1, 1, 1, 0, 1, 0, 1,\n",
              "       1, 0, 1, 0, 0, 1, 0, 0, 1, 1, 0, 1, 1, 1, 0, 0, 0, 0, 0, 0, 0, 0,\n",
              "       1, 0, 1, 1, 1, 1, 0, 0, 1, 1, 0, 1])"
            ]
          },
          "metadata": {},
          "execution_count": 41
        }
      ]
    },
    {
      "cell_type": "code",
      "source": [
        "count=0\n",
        "for i in range(30):\n",
        "  if(y_test[i]!=y_pred[i]):\n",
        "    count=count+1\n",
        "print(count)\n"
      ],
      "metadata": {
        "colab": {
          "base_uri": "https://localhost:8080/"
        },
        "id": "RBdfTBrdDG1A",
        "outputId": "88e3be67-b7a3-4cab-b062-534dc05ffba3"
      },
      "execution_count": null,
      "outputs": [
        {
          "output_type": "stream",
          "name": "stdout",
          "text": [
            "3\n"
          ]
        }
      ]
    },
    {
      "cell_type": "code",
      "source": [
        "from sklearn import metrics\n",
        "from sklearn.metrics import accuracy_score\n",
        "clfac= accuracy_score(y_test,y_pred)\n",
        "print(\"Accuracy : \", clfac)\n",
        "print(classification_report(y_test, y_pred))"
      ],
      "metadata": {
        "colab": {
          "base_uri": "https://localhost:8080/"
        },
        "id": "yhpi7TAmDJhi",
        "outputId": "a01b201e-4987-43a8-ea24-cad0b171de10"
      },
      "execution_count": null,
      "outputs": [
        {
          "output_type": "stream",
          "name": "stdout",
          "text": [
            "Accuracy :  0.915625\n",
            "              precision    recall  f1-score   support\n",
            "\n",
            "           0       0.91      0.90      0.91       144\n",
            "           1       0.92      0.93      0.92       176\n",
            "\n",
            "    accuracy                           0.92       320\n",
            "   macro avg       0.91      0.91      0.91       320\n",
            "weighted avg       0.92      0.92      0.92       320\n",
            "\n"
          ]
        }
      ]
    },
    {
      "cell_type": "markdown",
      "source": [
        "# **Naive Bayes**"
      ],
      "metadata": {
        "id": "BXIpSutpDNhA"
      }
    },
    {
      "cell_type": "code",
      "source": [
        "from sklearn.naive_bayes import GaussianNB\n",
        "nb = GaussianNB()\n",
        "nb.fit(x_train,y_train)"
      ],
      "metadata": {
        "colab": {
          "base_uri": "https://localhost:8080/",
          "height": 74
        },
        "id": "22LpygjmDP0-",
        "outputId": "99829ef0-4a9d-4f97-d2b3-5c6f81148f39"
      },
      "execution_count": null,
      "outputs": [
        {
          "output_type": "execute_result",
          "data": {
            "text/plain": [
              "GaussianNB()"
            ],
            "text/html": [
              "<style>#sk-container-id-3 {color: black;background-color: white;}#sk-container-id-3 pre{padding: 0;}#sk-container-id-3 div.sk-toggleable {background-color: white;}#sk-container-id-3 label.sk-toggleable__label {cursor: pointer;display: block;width: 100%;margin-bottom: 0;padding: 0.3em;box-sizing: border-box;text-align: center;}#sk-container-id-3 label.sk-toggleable__label-arrow:before {content: \"▸\";float: left;margin-right: 0.25em;color: #696969;}#sk-container-id-3 label.sk-toggleable__label-arrow:hover:before {color: black;}#sk-container-id-3 div.sk-estimator:hover label.sk-toggleable__label-arrow:before {color: black;}#sk-container-id-3 div.sk-toggleable__content {max-height: 0;max-width: 0;overflow: hidden;text-align: left;background-color: #f0f8ff;}#sk-container-id-3 div.sk-toggleable__content pre {margin: 0.2em;color: black;border-radius: 0.25em;background-color: #f0f8ff;}#sk-container-id-3 input.sk-toggleable__control:checked~div.sk-toggleable__content {max-height: 200px;max-width: 100%;overflow: auto;}#sk-container-id-3 input.sk-toggleable__control:checked~label.sk-toggleable__label-arrow:before {content: \"▾\";}#sk-container-id-3 div.sk-estimator input.sk-toggleable__control:checked~label.sk-toggleable__label {background-color: #d4ebff;}#sk-container-id-3 div.sk-label input.sk-toggleable__control:checked~label.sk-toggleable__label {background-color: #d4ebff;}#sk-container-id-3 input.sk-hidden--visually {border: 0;clip: rect(1px 1px 1px 1px);clip: rect(1px, 1px, 1px, 1px);height: 1px;margin: -1px;overflow: hidden;padding: 0;position: absolute;width: 1px;}#sk-container-id-3 div.sk-estimator {font-family: monospace;background-color: #f0f8ff;border: 1px dotted black;border-radius: 0.25em;box-sizing: border-box;margin-bottom: 0.5em;}#sk-container-id-3 div.sk-estimator:hover {background-color: #d4ebff;}#sk-container-id-3 div.sk-parallel-item::after {content: \"\";width: 100%;border-bottom: 1px solid gray;flex-grow: 1;}#sk-container-id-3 div.sk-label:hover label.sk-toggleable__label {background-color: #d4ebff;}#sk-container-id-3 div.sk-serial::before {content: \"\";position: absolute;border-left: 1px solid gray;box-sizing: border-box;top: 0;bottom: 0;left: 50%;z-index: 0;}#sk-container-id-3 div.sk-serial {display: flex;flex-direction: column;align-items: center;background-color: white;padding-right: 0.2em;padding-left: 0.2em;position: relative;}#sk-container-id-3 div.sk-item {position: relative;z-index: 1;}#sk-container-id-3 div.sk-parallel {display: flex;align-items: stretch;justify-content: center;background-color: white;position: relative;}#sk-container-id-3 div.sk-item::before, #sk-container-id-3 div.sk-parallel-item::before {content: \"\";position: absolute;border-left: 1px solid gray;box-sizing: border-box;top: 0;bottom: 0;left: 50%;z-index: -1;}#sk-container-id-3 div.sk-parallel-item {display: flex;flex-direction: column;z-index: 1;position: relative;background-color: white;}#sk-container-id-3 div.sk-parallel-item:first-child::after {align-self: flex-end;width: 50%;}#sk-container-id-3 div.sk-parallel-item:last-child::after {align-self: flex-start;width: 50%;}#sk-container-id-3 div.sk-parallel-item:only-child::after {width: 0;}#sk-container-id-3 div.sk-dashed-wrapped {border: 1px dashed gray;margin: 0 0.4em 0.5em 0.4em;box-sizing: border-box;padding-bottom: 0.4em;background-color: white;}#sk-container-id-3 div.sk-label label {font-family: monospace;font-weight: bold;display: inline-block;line-height: 1.2em;}#sk-container-id-3 div.sk-label-container {text-align: center;}#sk-container-id-3 div.sk-container {/* jupyter's `normalize.less` sets `[hidden] { display: none; }` but bootstrap.min.css set `[hidden] { display: none !important; }` so we also need the `!important` here to be able to override the default hidden behavior on the sphinx rendered scikit-learn.org. See: https://github.com/scikit-learn/scikit-learn/issues/21755 */display: inline-block !important;position: relative;}#sk-container-id-3 div.sk-text-repr-fallback {display: none;}</style><div id=\"sk-container-id-3\" class=\"sk-top-container\"><div class=\"sk-text-repr-fallback\"><pre>GaussianNB()</pre><b>In a Jupyter environment, please rerun this cell to show the HTML representation or trust the notebook. <br />On GitHub, the HTML representation is unable to render, please try loading this page with nbviewer.org.</b></div><div class=\"sk-container\" hidden><div class=\"sk-item\"><div class=\"sk-estimator sk-toggleable\"><input class=\"sk-toggleable__control sk-hidden--visually\" id=\"sk-estimator-id-3\" type=\"checkbox\" checked><label for=\"sk-estimator-id-3\" class=\"sk-toggleable__label sk-toggleable__label-arrow\">GaussianNB</label><div class=\"sk-toggleable__content\"><pre>GaussianNB()</pre></div></div></div></div></div>"
            ]
          },
          "metadata": {},
          "execution_count": 44
        }
      ]
    },
    {
      "cell_type": "code",
      "source": [
        "y_pred = nb.predict(x_test)\n",
        "y_pred"
      ],
      "metadata": {
        "colab": {
          "base_uri": "https://localhost:8080/"
        },
        "id": "i8LTm0rtDTVY",
        "outputId": "0c232403-9289-455b-cae5-efbb6ee0014e"
      },
      "execution_count": null,
      "outputs": [
        {
          "output_type": "execute_result",
          "data": {
            "text/plain": [
              "array([0, 1, 1, 0, 1, 1, 0, 1, 1, 0, 0, 0, 0, 0, 1, 0, 1, 1, 0, 1, 1, 1,\n",
              "       0, 0, 1, 0, 0, 1, 1, 0, 0, 1, 0, 0, 1, 1, 0, 0, 1, 1, 1, 1, 1, 1,\n",
              "       0, 1, 0, 1, 1, 1, 1, 1, 0, 0, 0, 0, 1, 1, 1, 0, 1, 1, 1, 1, 0, 1,\n",
              "       1, 1, 0, 1, 1, 1, 1, 0, 0, 0, 1, 0, 0, 1, 1, 1, 0, 1, 0, 1, 0, 1,\n",
              "       0, 0, 0, 1, 0, 1, 1, 0, 0, 1, 0, 1, 1, 1, 0, 1, 0, 0, 0, 1, 0, 1,\n",
              "       1, 0, 0, 1, 1, 0, 1, 0, 1, 1, 1, 1, 0, 1, 1, 1, 0, 0, 0, 0, 1, 1,\n",
              "       0, 0, 1, 1, 1, 0, 0, 1, 1, 0, 0, 1, 1, 1, 1, 0, 0, 0, 0, 1, 1, 0,\n",
              "       0, 0, 1, 1, 1, 0, 0, 0, 0, 1, 0, 1, 1, 0, 0, 1, 0, 0, 0, 1, 0, 1,\n",
              "       0, 0, 1, 1, 0, 1, 0, 0, 1, 1, 1, 0, 1, 1, 0, 1, 1, 1, 1, 1, 1, 0,\n",
              "       0, 1, 0, 1, 1, 1, 0, 0, 1, 0, 0, 0, 0, 1, 1, 0, 1, 1, 1, 1, 0, 1,\n",
              "       1, 0, 1, 1, 0, 1, 1, 1, 1, 1, 1, 1, 0, 1, 0, 1, 1, 1, 0, 1, 0, 1,\n",
              "       0, 0, 0, 0, 1, 1, 1, 0, 1, 0, 1, 0, 0, 1, 1, 0, 1, 1, 0, 1, 1, 0,\n",
              "       1, 1, 1, 0, 0, 1, 1, 1, 0, 0, 0, 0, 0, 1, 0, 0, 1, 0, 1, 1, 0, 1,\n",
              "       1, 0, 1, 0, 0, 1, 0, 0, 1, 1, 1, 1, 1, 1, 0, 1, 0, 0, 0, 1, 1, 1,\n",
              "       0, 0, 1, 1, 1, 1, 0, 0, 1, 1, 1, 1])"
            ]
          },
          "metadata": {},
          "execution_count": 45
        }
      ]
    },
    {
      "cell_type": "code",
      "source": [
        "y_test"
      ],
      "metadata": {
        "colab": {
          "base_uri": "https://localhost:8080/"
        },
        "id": "qJmMCvNeDWh1",
        "outputId": "b45ee769-7380-4efd-fe00-bb37d6697b98"
      },
      "execution_count": null,
      "outputs": [
        {
          "output_type": "execute_result",
          "data": {
            "text/plain": [
              "array([0, 0, 1, 0, 1, 1, 0, 1, 1, 0, 0, 0, 0, 0, 1, 0, 1, 1, 0, 0, 1, 0,\n",
              "       1, 0, 0, 1, 0, 0, 1, 1, 0, 1, 1, 0, 0, 0, 0, 0, 0, 1, 1, 0, 1, 0,\n",
              "       0, 1, 0, 1, 1, 1, 1, 1, 0, 0, 0, 0, 1, 1, 1, 0, 1, 1, 1, 1, 1, 1,\n",
              "       1, 1, 0, 1, 1, 1, 1, 1, 0, 0, 0, 0, 1, 0, 1, 1, 1, 1, 1, 1, 0, 1,\n",
              "       1, 1, 1, 1, 0, 0, 1, 0, 0, 1, 0, 0, 1, 1, 0, 1, 0, 0, 0, 1, 0, 1,\n",
              "       1, 0, 1, 0, 1, 1, 1, 0, 1, 0, 0, 1, 1, 1, 0, 1, 1, 0, 0, 0, 1, 1,\n",
              "       1, 0, 1, 0, 1, 1, 0, 1, 0, 0, 0, 1, 0, 0, 1, 1, 0, 1, 0, 1, 1, 0,\n",
              "       1, 0, 1, 1, 1, 0, 0, 0, 0, 1, 0, 1, 0, 0, 0, 1, 1, 0, 0, 1, 0, 1,\n",
              "       0, 0, 0, 1, 0, 1, 0, 1, 1, 1, 0, 0, 1, 1, 0, 1, 1, 1, 0, 1, 1, 0,\n",
              "       1, 1, 0, 1, 1, 0, 0, 1, 0, 0, 1, 0, 0, 0, 1, 0, 1, 1, 1, 1, 1, 1,\n",
              "       1, 1, 0, 0, 1, 1, 1, 1, 1, 0, 1, 1, 0, 1, 0, 1, 1, 1, 0, 1, 1, 0,\n",
              "       0, 0, 0, 1, 0, 0, 1, 1, 1, 1, 1, 0, 0, 1, 1, 0, 1, 1, 1, 1, 1, 1,\n",
              "       0, 1, 1, 0, 0, 1, 1, 0, 0, 0, 1, 1, 0, 1, 0, 1, 1, 1, 0, 1, 0, 1,\n",
              "       1, 0, 0, 0, 0, 1, 0, 0, 0, 1, 0, 1, 1, 1, 0, 0, 0, 0, 0, 0, 1, 1,\n",
              "       1, 1, 1, 1, 1, 1, 0, 0, 1, 1, 0, 1])"
            ]
          },
          "metadata": {},
          "execution_count": 46
        }
      ]
    },
    {
      "cell_type": "code",
      "source": [
        "count=0\n",
        "for i in range(30):\n",
        "  if(y_test[i]!=y_pred[i]):\n",
        "    count=count+1\n",
        "print(count)"
      ],
      "metadata": {
        "colab": {
          "base_uri": "https://localhost:8080/"
        },
        "id": "zyo7sYRvDY4U",
        "outputId": "c89ab591-c842-4e59-96c0-b07244b7ea76"
      },
      "execution_count": null,
      "outputs": [
        {
          "output_type": "stream",
          "name": "stdout",
          "text": [
            "8\n"
          ]
        }
      ]
    },
    {
      "cell_type": "code",
      "source": [
        "from sklearn import metrics\n",
        "from sklearn.metrics import accuracy_score\n",
        "nbac= accuracy_score(y_test,y_pred)\n",
        "print(\"Accuracy : \", nbac)\n",
        "print(classification_report(y_test, y_pred))"
      ],
      "metadata": {
        "colab": {
          "base_uri": "https://localhost:8080/"
        },
        "id": "0Cg_90Z-Dbhn",
        "outputId": "acb60a76-cf3a-432c-bda3-5518849bfc80"
      },
      "execution_count": null,
      "outputs": [
        {
          "output_type": "stream",
          "name": "stdout",
          "text": [
            "Accuracy :  0.734375\n",
            "              precision    recall  f1-score   support\n",
            "\n",
            "           0       0.71      0.69      0.70       144\n",
            "           1       0.75      0.77      0.76       176\n",
            "\n",
            "    accuracy                           0.73       320\n",
            "   macro avg       0.73      0.73      0.73       320\n",
            "weighted avg       0.73      0.73      0.73       320\n",
            "\n"
          ]
        }
      ]
    },
    {
      "cell_type": "markdown",
      "source": [
        "# **SVM**"
      ],
      "metadata": {
        "id": "II96tGsUDed6"
      }
    },
    {
      "cell_type": "code",
      "source": [
        "#import svm model\n",
        "from sklearn import svm\n",
        "#create a svm classifier\n",
        "sv=svm.SVC(kernel='poly') #hash kernel\n",
        "#train the model using the training sets\n",
        "sv.fit(x_train,y_train)\n",
        "#predict the response for the test dataset\n",
        "y_pred = sv.predict(x_test)"
      ],
      "metadata": {
        "id": "qSGwkiCJDgQq"
      },
      "execution_count": null,
      "outputs": []
    },
    {
      "cell_type": "code",
      "source": [
        "y_pred"
      ],
      "metadata": {
        "colab": {
          "base_uri": "https://localhost:8080/"
        },
        "id": "4LqiXxl5Dj0P",
        "outputId": "212aec3c-31f7-4e88-d47a-f27c2387ad90"
      },
      "execution_count": null,
      "outputs": [
        {
          "output_type": "execute_result",
          "data": {
            "text/plain": [
              "array([0, 0, 1, 0, 1, 1, 0, 1, 1, 0, 0, 0, 0, 0, 1, 0, 1, 1, 0, 1, 1, 0,\n",
              "       1, 0, 0, 1, 0, 1, 1, 0, 0, 1, 0, 0, 0, 0, 0, 0, 1, 1, 1, 0, 1, 0,\n",
              "       0, 0, 0, 1, 0, 1, 1, 1, 0, 0, 1, 0, 1, 1, 1, 0, 1, 1, 1, 0, 1, 1,\n",
              "       1, 1, 0, 1, 1, 1, 1, 1, 0, 0, 0, 0, 1, 1, 1, 1, 1, 1, 1, 1, 0, 1,\n",
              "       1, 1, 1, 1, 0, 0, 1, 0, 0, 1, 0, 0, 1, 1, 0, 1, 0, 0, 0, 1, 0, 1,\n",
              "       1, 0, 0, 0, 1, 1, 1, 0, 1, 0, 0, 1, 0, 1, 1, 1, 1, 0, 1, 0, 1, 1,\n",
              "       1, 0, 1, 1, 1, 1, 0, 1, 0, 0, 0, 0, 0, 0, 1, 1, 0, 0, 1, 1, 1, 0,\n",
              "       1, 0, 1, 1, 1, 0, 0, 0, 0, 0, 0, 1, 0, 0, 0, 1, 1, 0, 0, 1, 0, 1,\n",
              "       0, 0, 0, 1, 1, 1, 0, 1, 0, 1, 0, 0, 1, 1, 0, 1, 1, 1, 1, 1, 1, 0,\n",
              "       0, 1, 0, 0, 1, 0, 0, 1, 1, 0, 1, 0, 0, 0, 1, 0, 1, 1, 1, 1, 1, 1,\n",
              "       1, 1, 0, 0, 1, 1, 1, 1, 1, 0, 1, 1, 0, 1, 0, 1, 1, 1, 0, 1, 1, 1,\n",
              "       0, 0, 0, 1, 0, 0, 1, 0, 1, 0, 1, 0, 0, 1, 1, 0, 1, 1, 1, 1, 1, 1,\n",
              "       0, 1, 1, 0, 0, 1, 1, 0, 0, 0, 0, 1, 0, 1, 0, 1, 1, 1, 0, 1, 0, 1,\n",
              "       1, 0, 0, 0, 0, 1, 0, 0, 0, 1, 0, 1, 1, 1, 0, 1, 0, 0, 0, 1, 1, 1,\n",
              "       1, 1, 1, 1, 1, 1, 0, 0, 1, 1, 0, 1])"
            ]
          },
          "metadata": {},
          "execution_count": 50
        }
      ]
    },
    {
      "cell_type": "code",
      "source": [
        "y_test"
      ],
      "metadata": {
        "colab": {
          "base_uri": "https://localhost:8080/"
        },
        "id": "S_Q60wgEDnOa",
        "outputId": "d852160a-df97-422b-b164-bb5c4e173719"
      },
      "execution_count": null,
      "outputs": [
        {
          "output_type": "execute_result",
          "data": {
            "text/plain": [
              "array([0, 0, 1, 0, 1, 1, 0, 1, 1, 0, 0, 0, 0, 0, 1, 0, 1, 1, 0, 0, 1, 0,\n",
              "       1, 0, 0, 1, 0, 0, 1, 1, 0, 1, 1, 0, 0, 0, 0, 0, 0, 1, 1, 0, 1, 0,\n",
              "       0, 1, 0, 1, 1, 1, 1, 1, 0, 0, 0, 0, 1, 1, 1, 0, 1, 1, 1, 1, 1, 1,\n",
              "       1, 1, 0, 1, 1, 1, 1, 1, 0, 0, 0, 0, 1, 0, 1, 1, 1, 1, 1, 1, 0, 1,\n",
              "       1, 1, 1, 1, 0, 0, 1, 0, 0, 1, 0, 0, 1, 1, 0, 1, 0, 0, 0, 1, 0, 1,\n",
              "       1, 0, 1, 0, 1, 1, 1, 0, 1, 0, 0, 1, 1, 1, 0, 1, 1, 0, 0, 0, 1, 1,\n",
              "       1, 0, 1, 0, 1, 1, 0, 1, 0, 0, 0, 1, 0, 0, 1, 1, 0, 1, 0, 1, 1, 0,\n",
              "       1, 0, 1, 1, 1, 0, 0, 0, 0, 1, 0, 1, 0, 0, 0, 1, 1, 0, 0, 1, 0, 1,\n",
              "       0, 0, 0, 1, 0, 1, 0, 1, 1, 1, 0, 0, 1, 1, 0, 1, 1, 1, 0, 1, 1, 0,\n",
              "       1, 1, 0, 1, 1, 0, 0, 1, 0, 0, 1, 0, 0, 0, 1, 0, 1, 1, 1, 1, 1, 1,\n",
              "       1, 1, 0, 0, 1, 1, 1, 1, 1, 0, 1, 1, 0, 1, 0, 1, 1, 1, 0, 1, 1, 0,\n",
              "       0, 0, 0, 1, 0, 0, 1, 1, 1, 1, 1, 0, 0, 1, 1, 0, 1, 1, 1, 1, 1, 1,\n",
              "       0, 1, 1, 0, 0, 1, 1, 0, 0, 0, 1, 1, 0, 1, 0, 1, 1, 1, 0, 1, 0, 1,\n",
              "       1, 0, 0, 0, 0, 1, 0, 0, 0, 1, 0, 1, 1, 1, 0, 0, 0, 0, 0, 0, 1, 1,\n",
              "       1, 1, 1, 1, 1, 1, 0, 0, 1, 1, 0, 1])"
            ]
          },
          "metadata": {},
          "execution_count": 51
        }
      ]
    },
    {
      "cell_type": "code",
      "source": [
        "from sklearn import metrics\n",
        "from sklearn.metrics import accuracy_score\n",
        "svac=accuracy_score(y_test, y_pred)\n",
        "print(\"Accuracy : \", svac)\n",
        "print(classification_report(y_test, y_pred))"
      ],
      "metadata": {
        "colab": {
          "base_uri": "https://localhost:8080/"
        },
        "id": "ZQIA0ACWDpqQ",
        "outputId": "2f7bb2c6-f453-453b-d188-7a4138fcc23a"
      },
      "execution_count": null,
      "outputs": [
        {
          "output_type": "stream",
          "name": "stdout",
          "text": [
            "Accuracy :  0.903125\n",
            "              precision    recall  f1-score   support\n",
            "\n",
            "           0       0.89      0.90      0.89       144\n",
            "           1       0.91      0.91      0.91       176\n",
            "\n",
            "    accuracy                           0.90       320\n",
            "   macro avg       0.90      0.90      0.90       320\n",
            "weighted avg       0.90      0.90      0.90       320\n",
            "\n"
          ]
        }
      ]
    },
    {
      "cell_type": "markdown",
      "source": [
        "# **LOGISTIC REGRESSION**"
      ],
      "metadata": {
        "id": "23UdbI7tD53J"
      }
    },
    {
      "cell_type": "code",
      "source": [
        "from sklearn.linear_model import LogisticRegression\n",
        "from sklearn.metrics import accuracy_score, classification_report, confusion_matrix"
      ],
      "metadata": {
        "id": "0DgxW5P0D9Yg"
      },
      "execution_count": null,
      "outputs": []
    },
    {
      "cell_type": "code",
      "source": [
        "x = df.drop(columns=['HeartDisease'])\n",
        "y = df['HeartDisease']"
      ],
      "metadata": {
        "id": "JE-MR_SfEAtr"
      },
      "execution_count": null,
      "outputs": []
    },
    {
      "cell_type": "code",
      "source": [
        "# Split the data into training and testing sets\n",
        "from sklearn.model_selection import train_test_split\n",
        "x_train, x_test, y_train, y_test = train_test_split(x, y, test_size=0.20, random_state=42)"
      ],
      "metadata": {
        "id": "kUv0v7_FEELk"
      },
      "execution_count": null,
      "outputs": []
    },
    {
      "cell_type": "code",
      "source": [
        "scaler = StandardScaler()\n",
        "x_train = scaler.fit_transform(x_train)\n",
        "x_test = scaler.transform(x_test)"
      ],
      "metadata": {
        "id": "ZCi4JYTyEHC2"
      },
      "execution_count": null,
      "outputs": []
    },
    {
      "cell_type": "code",
      "source": [
        "lr = LogisticRegression()\n",
        "lr.fit(x_train, y_train)"
      ],
      "metadata": {
        "colab": {
          "base_uri": "https://localhost:8080/",
          "height": 74
        },
        "id": "btXyARbVEJwn",
        "outputId": "31acce64-e670-493d-a6a7-3bd5b4eae056"
      },
      "execution_count": null,
      "outputs": [
        {
          "output_type": "execute_result",
          "data": {
            "text/plain": [
              "LogisticRegression()"
            ],
            "text/html": [
              "<style>#sk-container-id-4 {color: black;background-color: white;}#sk-container-id-4 pre{padding: 0;}#sk-container-id-4 div.sk-toggleable {background-color: white;}#sk-container-id-4 label.sk-toggleable__label {cursor: pointer;display: block;width: 100%;margin-bottom: 0;padding: 0.3em;box-sizing: border-box;text-align: center;}#sk-container-id-4 label.sk-toggleable__label-arrow:before {content: \"▸\";float: left;margin-right: 0.25em;color: #696969;}#sk-container-id-4 label.sk-toggleable__label-arrow:hover:before {color: black;}#sk-container-id-4 div.sk-estimator:hover label.sk-toggleable__label-arrow:before {color: black;}#sk-container-id-4 div.sk-toggleable__content {max-height: 0;max-width: 0;overflow: hidden;text-align: left;background-color: #f0f8ff;}#sk-container-id-4 div.sk-toggleable__content pre {margin: 0.2em;color: black;border-radius: 0.25em;background-color: #f0f8ff;}#sk-container-id-4 input.sk-toggleable__control:checked~div.sk-toggleable__content {max-height: 200px;max-width: 100%;overflow: auto;}#sk-container-id-4 input.sk-toggleable__control:checked~label.sk-toggleable__label-arrow:before {content: \"▾\";}#sk-container-id-4 div.sk-estimator input.sk-toggleable__control:checked~label.sk-toggleable__label {background-color: #d4ebff;}#sk-container-id-4 div.sk-label input.sk-toggleable__control:checked~label.sk-toggleable__label {background-color: #d4ebff;}#sk-container-id-4 input.sk-hidden--visually {border: 0;clip: rect(1px 1px 1px 1px);clip: rect(1px, 1px, 1px, 1px);height: 1px;margin: -1px;overflow: hidden;padding: 0;position: absolute;width: 1px;}#sk-container-id-4 div.sk-estimator {font-family: monospace;background-color: #f0f8ff;border: 1px dotted black;border-radius: 0.25em;box-sizing: border-box;margin-bottom: 0.5em;}#sk-container-id-4 div.sk-estimator:hover {background-color: #d4ebff;}#sk-container-id-4 div.sk-parallel-item::after {content: \"\";width: 100%;border-bottom: 1px solid gray;flex-grow: 1;}#sk-container-id-4 div.sk-label:hover label.sk-toggleable__label {background-color: #d4ebff;}#sk-container-id-4 div.sk-serial::before {content: \"\";position: absolute;border-left: 1px solid gray;box-sizing: border-box;top: 0;bottom: 0;left: 50%;z-index: 0;}#sk-container-id-4 div.sk-serial {display: flex;flex-direction: column;align-items: center;background-color: white;padding-right: 0.2em;padding-left: 0.2em;position: relative;}#sk-container-id-4 div.sk-item {position: relative;z-index: 1;}#sk-container-id-4 div.sk-parallel {display: flex;align-items: stretch;justify-content: center;background-color: white;position: relative;}#sk-container-id-4 div.sk-item::before, #sk-container-id-4 div.sk-parallel-item::before {content: \"\";position: absolute;border-left: 1px solid gray;box-sizing: border-box;top: 0;bottom: 0;left: 50%;z-index: -1;}#sk-container-id-4 div.sk-parallel-item {display: flex;flex-direction: column;z-index: 1;position: relative;background-color: white;}#sk-container-id-4 div.sk-parallel-item:first-child::after {align-self: flex-end;width: 50%;}#sk-container-id-4 div.sk-parallel-item:last-child::after {align-self: flex-start;width: 50%;}#sk-container-id-4 div.sk-parallel-item:only-child::after {width: 0;}#sk-container-id-4 div.sk-dashed-wrapped {border: 1px dashed gray;margin: 0 0.4em 0.5em 0.4em;box-sizing: border-box;padding-bottom: 0.4em;background-color: white;}#sk-container-id-4 div.sk-label label {font-family: monospace;font-weight: bold;display: inline-block;line-height: 1.2em;}#sk-container-id-4 div.sk-label-container {text-align: center;}#sk-container-id-4 div.sk-container {/* jupyter's `normalize.less` sets `[hidden] { display: none; }` but bootstrap.min.css set `[hidden] { display: none !important; }` so we also need the `!important` here to be able to override the default hidden behavior on the sphinx rendered scikit-learn.org. See: https://github.com/scikit-learn/scikit-learn/issues/21755 */display: inline-block !important;position: relative;}#sk-container-id-4 div.sk-text-repr-fallback {display: none;}</style><div id=\"sk-container-id-4\" class=\"sk-top-container\"><div class=\"sk-text-repr-fallback\"><pre>LogisticRegression()</pre><b>In a Jupyter environment, please rerun this cell to show the HTML representation or trust the notebook. <br />On GitHub, the HTML representation is unable to render, please try loading this page with nbviewer.org.</b></div><div class=\"sk-container\" hidden><div class=\"sk-item\"><div class=\"sk-estimator sk-toggleable\"><input class=\"sk-toggleable__control sk-hidden--visually\" id=\"sk-estimator-id-4\" type=\"checkbox\" checked><label for=\"sk-estimator-id-4\" class=\"sk-toggleable__label sk-toggleable__label-arrow\">LogisticRegression</label><div class=\"sk-toggleable__content\"><pre>LogisticRegression()</pre></div></div></div></div></div>"
            ]
          },
          "metadata": {},
          "execution_count": 57
        }
      ]
    },
    {
      "cell_type": "code",
      "source": [
        "y_pred = lr.predict(x_test)"
      ],
      "metadata": {
        "id": "GkWLScL6EL4B"
      },
      "execution_count": null,
      "outputs": []
    },
    {
      "cell_type": "code",
      "source": [
        "lrac = accuracy_score(y_test, y_pred)\n",
        "print(\"Accuracy : \", lrac)\n",
        "print(classification_report(y_test, y_pred))"
      ],
      "metadata": {
        "colab": {
          "base_uri": "https://localhost:8080/"
        },
        "id": "XVSeSwwvENxp",
        "outputId": "f1a7d458-efa2-4755-df3f-264d2a7fe980"
      },
      "execution_count": null,
      "outputs": [
        {
          "output_type": "stream",
          "name": "stdout",
          "text": [
            "Accuracy :  0.75625\n",
            "              precision    recall  f1-score   support\n",
            "\n",
            "           0       0.73      0.73      0.73       144\n",
            "           1       0.78      0.78      0.78       176\n",
            "\n",
            "    accuracy                           0.76       320\n",
            "   macro avg       0.75      0.75      0.75       320\n",
            "weighted avg       0.76      0.76      0.76       320\n",
            "\n"
          ]
        }
      ]
    },
    {
      "cell_type": "markdown",
      "source": [
        "# **ADA BOOST**"
      ],
      "metadata": {
        "id": "8fLRjnNbER7y"
      }
    },
    {
      "cell_type": "code",
      "source": [
        "from sklearn.ensemble import AdaBoostClassifier\n",
        "from sklearn.tree import DecisionTreeClassifier\n",
        "\n",
        "ada= AdaBoostClassifier(\n",
        "    DecisionTreeClassifier(max_depth=1), n_estimators=200,\n",
        "    algorithm=\"SAMME.R\", learning_rate=0.5, random_state=42)"
      ],
      "metadata": {
        "id": "G8at03cSESlp"
      },
      "execution_count": null,
      "outputs": []
    },
    {
      "cell_type": "code",
      "source": [
        "ada.fit(x_train, y_train)"
      ],
      "metadata": {
        "colab": {
          "base_uri": "https://localhost:8080/",
          "height": 117
        },
        "id": "KD-0qZYrEV41",
        "outputId": "895a4cd7-08d0-4a40-dd8a-7736f1fafb59"
      },
      "execution_count": null,
      "outputs": [
        {
          "output_type": "execute_result",
          "data": {
            "text/plain": [
              "AdaBoostClassifier(estimator=DecisionTreeClassifier(max_depth=1),\n",
              "                   learning_rate=0.5, n_estimators=200, random_state=42)"
            ],
            "text/html": [
              "<style>#sk-container-id-5 {color: black;background-color: white;}#sk-container-id-5 pre{padding: 0;}#sk-container-id-5 div.sk-toggleable {background-color: white;}#sk-container-id-5 label.sk-toggleable__label {cursor: pointer;display: block;width: 100%;margin-bottom: 0;padding: 0.3em;box-sizing: border-box;text-align: center;}#sk-container-id-5 label.sk-toggleable__label-arrow:before {content: \"▸\";float: left;margin-right: 0.25em;color: #696969;}#sk-container-id-5 label.sk-toggleable__label-arrow:hover:before {color: black;}#sk-container-id-5 div.sk-estimator:hover label.sk-toggleable__label-arrow:before {color: black;}#sk-container-id-5 div.sk-toggleable__content {max-height: 0;max-width: 0;overflow: hidden;text-align: left;background-color: #f0f8ff;}#sk-container-id-5 div.sk-toggleable__content pre {margin: 0.2em;color: black;border-radius: 0.25em;background-color: #f0f8ff;}#sk-container-id-5 input.sk-toggleable__control:checked~div.sk-toggleable__content {max-height: 200px;max-width: 100%;overflow: auto;}#sk-container-id-5 input.sk-toggleable__control:checked~label.sk-toggleable__label-arrow:before {content: \"▾\";}#sk-container-id-5 div.sk-estimator input.sk-toggleable__control:checked~label.sk-toggleable__label {background-color: #d4ebff;}#sk-container-id-5 div.sk-label input.sk-toggleable__control:checked~label.sk-toggleable__label {background-color: #d4ebff;}#sk-container-id-5 input.sk-hidden--visually {border: 0;clip: rect(1px 1px 1px 1px);clip: rect(1px, 1px, 1px, 1px);height: 1px;margin: -1px;overflow: hidden;padding: 0;position: absolute;width: 1px;}#sk-container-id-5 div.sk-estimator {font-family: monospace;background-color: #f0f8ff;border: 1px dotted black;border-radius: 0.25em;box-sizing: border-box;margin-bottom: 0.5em;}#sk-container-id-5 div.sk-estimator:hover {background-color: #d4ebff;}#sk-container-id-5 div.sk-parallel-item::after {content: \"\";width: 100%;border-bottom: 1px solid gray;flex-grow: 1;}#sk-container-id-5 div.sk-label:hover label.sk-toggleable__label {background-color: #d4ebff;}#sk-container-id-5 div.sk-serial::before {content: \"\";position: absolute;border-left: 1px solid gray;box-sizing: border-box;top: 0;bottom: 0;left: 50%;z-index: 0;}#sk-container-id-5 div.sk-serial {display: flex;flex-direction: column;align-items: center;background-color: white;padding-right: 0.2em;padding-left: 0.2em;position: relative;}#sk-container-id-5 div.sk-item {position: relative;z-index: 1;}#sk-container-id-5 div.sk-parallel {display: flex;align-items: stretch;justify-content: center;background-color: white;position: relative;}#sk-container-id-5 div.sk-item::before, #sk-container-id-5 div.sk-parallel-item::before {content: \"\";position: absolute;border-left: 1px solid gray;box-sizing: border-box;top: 0;bottom: 0;left: 50%;z-index: -1;}#sk-container-id-5 div.sk-parallel-item {display: flex;flex-direction: column;z-index: 1;position: relative;background-color: white;}#sk-container-id-5 div.sk-parallel-item:first-child::after {align-self: flex-end;width: 50%;}#sk-container-id-5 div.sk-parallel-item:last-child::after {align-self: flex-start;width: 50%;}#sk-container-id-5 div.sk-parallel-item:only-child::after {width: 0;}#sk-container-id-5 div.sk-dashed-wrapped {border: 1px dashed gray;margin: 0 0.4em 0.5em 0.4em;box-sizing: border-box;padding-bottom: 0.4em;background-color: white;}#sk-container-id-5 div.sk-label label {font-family: monospace;font-weight: bold;display: inline-block;line-height: 1.2em;}#sk-container-id-5 div.sk-label-container {text-align: center;}#sk-container-id-5 div.sk-container {/* jupyter's `normalize.less` sets `[hidden] { display: none; }` but bootstrap.min.css set `[hidden] { display: none !important; }` so we also need the `!important` here to be able to override the default hidden behavior on the sphinx rendered scikit-learn.org. See: https://github.com/scikit-learn/scikit-learn/issues/21755 */display: inline-block !important;position: relative;}#sk-container-id-5 div.sk-text-repr-fallback {display: none;}</style><div id=\"sk-container-id-5\" class=\"sk-top-container\"><div class=\"sk-text-repr-fallback\"><pre>AdaBoostClassifier(estimator=DecisionTreeClassifier(max_depth=1),\n",
              "                   learning_rate=0.5, n_estimators=200, random_state=42)</pre><b>In a Jupyter environment, please rerun this cell to show the HTML representation or trust the notebook. <br />On GitHub, the HTML representation is unable to render, please try loading this page with nbviewer.org.</b></div><div class=\"sk-container\" hidden><div class=\"sk-item sk-dashed-wrapped\"><div class=\"sk-label-container\"><div class=\"sk-label sk-toggleable\"><input class=\"sk-toggleable__control sk-hidden--visually\" id=\"sk-estimator-id-5\" type=\"checkbox\" ><label for=\"sk-estimator-id-5\" class=\"sk-toggleable__label sk-toggleable__label-arrow\">AdaBoostClassifier</label><div class=\"sk-toggleable__content\"><pre>AdaBoostClassifier(estimator=DecisionTreeClassifier(max_depth=1),\n",
              "                   learning_rate=0.5, n_estimators=200, random_state=42)</pre></div></div></div><div class=\"sk-parallel\"><div class=\"sk-parallel-item\"><div class=\"sk-item\"><div class=\"sk-label-container\"><div class=\"sk-label sk-toggleable\"><input class=\"sk-toggleable__control sk-hidden--visually\" id=\"sk-estimator-id-6\" type=\"checkbox\" ><label for=\"sk-estimator-id-6\" class=\"sk-toggleable__label sk-toggleable__label-arrow\">estimator: DecisionTreeClassifier</label><div class=\"sk-toggleable__content\"><pre>DecisionTreeClassifier(max_depth=1)</pre></div></div></div><div class=\"sk-serial\"><div class=\"sk-item\"><div class=\"sk-estimator sk-toggleable\"><input class=\"sk-toggleable__control sk-hidden--visually\" id=\"sk-estimator-id-7\" type=\"checkbox\" ><label for=\"sk-estimator-id-7\" class=\"sk-toggleable__label sk-toggleable__label-arrow\">DecisionTreeClassifier</label><div class=\"sk-toggleable__content\"><pre>DecisionTreeClassifier(max_depth=1)</pre></div></div></div></div></div></div></div></div></div></div>"
            ]
          },
          "metadata": {},
          "execution_count": 61
        }
      ]
    },
    {
      "cell_type": "code",
      "source": [
        "y_pred = ada.predict(x_test)"
      ],
      "metadata": {
        "id": "jdIy_UqCEX1D"
      },
      "execution_count": null,
      "outputs": []
    },
    {
      "cell_type": "code",
      "source": [
        "y_pred"
      ],
      "metadata": {
        "colab": {
          "base_uri": "https://localhost:8080/"
        },
        "id": "cxPg7rLjEZfV",
        "outputId": "253e179c-77de-4e95-8e34-5fb8f2263aa8"
      },
      "execution_count": null,
      "outputs": [
        {
          "output_type": "execute_result",
          "data": {
            "text/plain": [
              "array([0, 0, 1, 0, 1, 1, 0, 1, 1, 0, 0, 0, 1, 0, 1, 0, 1, 1, 0, 1, 0, 0,\n",
              "       1, 0, 0, 1, 0, 1, 1, 1, 0, 1, 1, 0, 1, 0, 0, 0, 1, 1, 1, 0, 1, 0,\n",
              "       0, 0, 0, 1, 1, 0, 1, 1, 0, 0, 0, 0, 1, 1, 1, 0, 1, 1, 1, 1, 1, 1,\n",
              "       0, 1, 0, 1, 1, 1, 1, 1, 0, 0, 0, 0, 0, 1, 1, 1, 1, 1, 1, 1, 0, 1,\n",
              "       0, 0, 1, 1, 1, 0, 1, 0, 0, 1, 0, 0, 1, 1, 1, 1, 0, 0, 0, 1, 0, 1,\n",
              "       1, 0, 0, 0, 1, 1, 1, 0, 1, 1, 0, 1, 1, 1, 0, 1, 0, 1, 1, 0, 1, 1,\n",
              "       1, 0, 1, 0, 1, 0, 0, 1, 0, 0, 0, 0, 0, 0, 1, 0, 0, 1, 0, 1, 1, 0,\n",
              "       1, 0, 1, 1, 1, 0, 0, 0, 0, 0, 0, 1, 0, 0, 0, 1, 1, 0, 0, 1, 0, 1,\n",
              "       0, 0, 0, 1, 0, 1, 0, 0, 0, 1, 0, 1, 1, 1, 0, 1, 1, 0, 0, 0, 1, 0,\n",
              "       0, 1, 0, 0, 1, 1, 0, 0, 1, 0, 1, 0, 0, 1, 1, 1, 1, 1, 1, 1, 1, 1,\n",
              "       1, 1, 0, 1, 0, 1, 1, 1, 1, 0, 1, 1, 0, 1, 0, 1, 1, 1, 0, 1, 0, 1,\n",
              "       0, 0, 0, 1, 1, 0, 1, 0, 1, 0, 1, 0, 0, 1, 1, 0, 1, 1, 0, 1, 1, 1,\n",
              "       0, 1, 1, 0, 0, 1, 1, 0, 0, 0, 1, 0, 0, 1, 0, 1, 1, 1, 1, 1, 0, 1,\n",
              "       1, 0, 1, 0, 0, 1, 0, 0, 0, 1, 0, 1, 1, 1, 0, 0, 0, 0, 0, 1, 1, 1,\n",
              "       1, 0, 1, 1, 1, 1, 0, 0, 1, 1, 1, 1])"
            ]
          },
          "metadata": {},
          "execution_count": 63
        }
      ]
    },
    {
      "cell_type": "code",
      "source": [
        "from sklearn.metrics import accuracy_score\n",
        "adaac = accuracy_score(y_test, y_pred)\n",
        "print(\"Accuracy : \", adaac)\n",
        "print(classification_report(y_test, y_pred))"
      ],
      "metadata": {
        "colab": {
          "base_uri": "https://localhost:8080/"
        },
        "id": "sx_NQPN5Edjo",
        "outputId": "00329759-c0df-465b-bd60-2acea724dec4"
      },
      "execution_count": null,
      "outputs": [
        {
          "output_type": "stream",
          "name": "stdout",
          "text": [
            "Accuracy :  0.84375\n",
            "              precision    recall  f1-score   support\n",
            "\n",
            "           0       0.82      0.84      0.83       144\n",
            "           1       0.87      0.85      0.86       176\n",
            "\n",
            "    accuracy                           0.84       320\n",
            "   macro avg       0.84      0.84      0.84       320\n",
            "weighted avg       0.84      0.84      0.84       320\n",
            "\n"
          ]
        }
      ]
    },
    {
      "cell_type": "markdown",
      "source": [
        "# **ANN**\n"
      ],
      "metadata": {
        "id": "NrtCiM-yEgXd"
      }
    },
    {
      "cell_type": "code",
      "source": [
        "# Import Library\n",
        "from sklearn.neural_network import MLPClassifier\n",
        "\n",
        "# Fitting Model\n",
        "mlp = MLPClassifier(hidden_layer_sizes=(5), activation = 'relu', solver = 'adam',max_iter= 10000, verbose = True)\n",
        "mlp = mlp.fit(x_train,y_train)\n",
        "\n",
        "# Prediction to Test Dataset\n",
        "y_predmlp = mlp.predict(x_test)"
      ],
      "metadata": {
        "colab": {
          "base_uri": "https://localhost:8080/"
        },
        "id": "wd80HKowEhh8",
        "outputId": "405d84be-4439-4cb6-e956-4e814268f7a8"
      },
      "execution_count": null,
      "outputs": [
        {
          "output_type": "stream",
          "name": "stdout",
          "text": [
            "Iteration 1, loss = 0.68919607\n",
            "Iteration 2, loss = 0.68205460\n",
            "Iteration 3, loss = 0.67580021\n",
            "Iteration 4, loss = 0.67000266\n",
            "Iteration 5, loss = 0.66458206\n",
            "Iteration 6, loss = 0.65943931\n",
            "Iteration 7, loss = 0.65474768\n",
            "Iteration 8, loss = 0.64988723\n",
            "Iteration 9, loss = 0.64555283\n",
            "Iteration 10, loss = 0.64125526\n",
            "Iteration 11, loss = 0.63709691\n",
            "Iteration 12, loss = 0.63293000\n",
            "Iteration 13, loss = 0.62888275\n",
            "Iteration 14, loss = 0.62504515\n",
            "Iteration 15, loss = 0.62143739\n",
            "Iteration 16, loss = 0.61795761\n",
            "Iteration 17, loss = 0.61445761\n",
            "Iteration 18, loss = 0.61104052\n",
            "Iteration 19, loss = 0.60778152\n",
            "Iteration 20, loss = 0.60460846\n",
            "Iteration 21, loss = 0.60162064\n",
            "Iteration 22, loss = 0.59852891\n",
            "Iteration 23, loss = 0.59580658\n",
            "Iteration 24, loss = 0.59302562\n",
            "Iteration 25, loss = 0.59020273\n",
            "Iteration 26, loss = 0.58749840\n",
            "Iteration 27, loss = 0.58494937\n",
            "Iteration 28, loss = 0.58241583\n",
            "Iteration 29, loss = 0.57992214\n",
            "Iteration 30, loss = 0.57747210\n",
            "Iteration 31, loss = 0.57505805\n",
            "Iteration 32, loss = 0.57278695\n",
            "Iteration 33, loss = 0.57044108\n",
            "Iteration 34, loss = 0.56801575\n",
            "Iteration 35, loss = 0.56578909\n",
            "Iteration 36, loss = 0.56343611\n",
            "Iteration 37, loss = 0.56114474\n",
            "Iteration 38, loss = 0.55877667\n",
            "Iteration 39, loss = 0.55643016\n",
            "Iteration 40, loss = 0.55404707\n",
            "Iteration 41, loss = 0.55179938\n",
            "Iteration 42, loss = 0.54934290\n",
            "Iteration 43, loss = 0.54705439\n",
            "Iteration 44, loss = 0.54464766\n",
            "Iteration 45, loss = 0.54220629\n",
            "Iteration 46, loss = 0.53972725\n",
            "Iteration 47, loss = 0.53728962\n",
            "Iteration 48, loss = 0.53473577\n",
            "Iteration 49, loss = 0.53232099\n",
            "Iteration 50, loss = 0.52997597\n",
            "Iteration 51, loss = 0.52750331\n",
            "Iteration 52, loss = 0.52503928\n",
            "Iteration 53, loss = 0.52262311\n",
            "Iteration 54, loss = 0.52020025\n",
            "Iteration 55, loss = 0.51799552\n",
            "Iteration 56, loss = 0.51576169\n",
            "Iteration 57, loss = 0.51338957\n",
            "Iteration 58, loss = 0.51106956\n",
            "Iteration 59, loss = 0.50891455\n",
            "Iteration 60, loss = 0.50651689\n",
            "Iteration 61, loss = 0.50430980\n",
            "Iteration 62, loss = 0.50207842\n",
            "Iteration 63, loss = 0.49967820\n",
            "Iteration 64, loss = 0.49758152\n",
            "Iteration 65, loss = 0.49525078\n",
            "Iteration 66, loss = 0.49307543\n",
            "Iteration 67, loss = 0.49074977\n",
            "Iteration 68, loss = 0.48858069\n",
            "Iteration 69, loss = 0.48639311\n",
            "Iteration 70, loss = 0.48424099\n",
            "Iteration 71, loss = 0.48207157\n",
            "Iteration 72, loss = 0.47996282\n",
            "Iteration 73, loss = 0.47781265\n",
            "Iteration 74, loss = 0.47571259\n",
            "Iteration 75, loss = 0.47362590\n",
            "Iteration 76, loss = 0.47150703\n",
            "Iteration 77, loss = 0.46950593\n",
            "Iteration 78, loss = 0.46754833\n",
            "Iteration 79, loss = 0.46544989\n",
            "Iteration 80, loss = 0.46338494\n",
            "Iteration 81, loss = 0.46137865\n",
            "Iteration 82, loss = 0.45940939\n",
            "Iteration 83, loss = 0.45734089\n",
            "Iteration 84, loss = 0.45551190\n",
            "Iteration 85, loss = 0.45356484\n",
            "Iteration 86, loss = 0.45165976\n",
            "Iteration 87, loss = 0.44970744\n",
            "Iteration 88, loss = 0.44784298\n",
            "Iteration 89, loss = 0.44580145\n",
            "Iteration 90, loss = 0.44397873\n",
            "Iteration 91, loss = 0.44215292\n",
            "Iteration 92, loss = 0.44033089\n",
            "Iteration 93, loss = 0.43827073\n",
            "Iteration 94, loss = 0.43634835\n",
            "Iteration 95, loss = 0.43440091\n",
            "Iteration 96, loss = 0.43247693\n",
            "Iteration 97, loss = 0.43066735\n",
            "Iteration 98, loss = 0.42884386\n",
            "Iteration 99, loss = 0.42720035\n",
            "Iteration 100, loss = 0.42549251\n",
            "Iteration 101, loss = 0.42384823\n",
            "Iteration 102, loss = 0.42236997\n",
            "Iteration 103, loss = 0.42081121\n",
            "Iteration 104, loss = 0.41925924\n",
            "Iteration 105, loss = 0.41778943\n",
            "Iteration 106, loss = 0.41629802\n",
            "Iteration 107, loss = 0.41476666\n",
            "Iteration 108, loss = 0.41333808\n",
            "Iteration 109, loss = 0.41191532\n",
            "Iteration 110, loss = 0.41059062\n",
            "Iteration 111, loss = 0.40927779\n",
            "Iteration 112, loss = 0.40798217\n",
            "Iteration 113, loss = 0.40664158\n",
            "Iteration 114, loss = 0.40541723\n",
            "Iteration 115, loss = 0.40414259\n",
            "Iteration 116, loss = 0.40289407\n",
            "Iteration 117, loss = 0.40161074\n",
            "Iteration 118, loss = 0.40055685\n",
            "Iteration 119, loss = 0.39939218\n",
            "Iteration 120, loss = 0.39821820\n",
            "Iteration 121, loss = 0.39703821\n",
            "Iteration 122, loss = 0.39601655\n",
            "Iteration 123, loss = 0.39485088\n",
            "Iteration 124, loss = 0.39378066\n",
            "Iteration 125, loss = 0.39277248\n",
            "Iteration 126, loss = 0.39183648\n",
            "Iteration 127, loss = 0.39092208\n",
            "Iteration 128, loss = 0.38993254\n",
            "Iteration 129, loss = 0.38904602\n",
            "Iteration 130, loss = 0.38823427\n",
            "Iteration 131, loss = 0.38733654\n",
            "Iteration 132, loss = 0.38647953\n",
            "Iteration 133, loss = 0.38570436\n",
            "Iteration 134, loss = 0.38490131\n",
            "Iteration 135, loss = 0.38404886\n",
            "Iteration 136, loss = 0.38322854\n",
            "Iteration 137, loss = 0.38242975\n",
            "Iteration 138, loss = 0.38170290\n",
            "Iteration 139, loss = 0.38101158\n",
            "Iteration 140, loss = 0.38020012\n",
            "Iteration 141, loss = 0.37954759\n",
            "Iteration 142, loss = 0.37886824\n",
            "Iteration 143, loss = 0.37821779\n",
            "Iteration 144, loss = 0.37758712\n",
            "Iteration 145, loss = 0.37698439\n",
            "Iteration 146, loss = 0.37637275\n",
            "Iteration 147, loss = 0.37569195\n",
            "Iteration 148, loss = 0.37510624\n",
            "Iteration 149, loss = 0.37449824\n",
            "Iteration 150, loss = 0.37391678\n",
            "Iteration 151, loss = 0.37331783\n",
            "Iteration 152, loss = 0.37275217\n",
            "Iteration 153, loss = 0.37210732\n",
            "Iteration 154, loss = 0.37159364\n",
            "Iteration 155, loss = 0.37100831\n",
            "Iteration 156, loss = 0.37045185\n",
            "Iteration 157, loss = 0.36991076\n",
            "Iteration 158, loss = 0.36936177\n",
            "Iteration 159, loss = 0.36883216\n",
            "Iteration 160, loss = 0.36833674\n",
            "Iteration 161, loss = 0.36782858\n",
            "Iteration 162, loss = 0.36733395\n",
            "Iteration 163, loss = 0.36680474\n",
            "Iteration 164, loss = 0.36634578\n",
            "Iteration 165, loss = 0.36581270\n",
            "Iteration 166, loss = 0.36539121\n",
            "Iteration 167, loss = 0.36490716\n",
            "Iteration 168, loss = 0.36441898\n",
            "Iteration 169, loss = 0.36400372\n",
            "Iteration 170, loss = 0.36353235\n",
            "Iteration 171, loss = 0.36302656\n",
            "Iteration 172, loss = 0.36255723\n",
            "Iteration 173, loss = 0.36215658\n",
            "Iteration 174, loss = 0.36165331\n",
            "Iteration 175, loss = 0.36123732\n",
            "Iteration 176, loss = 0.36078428\n",
            "Iteration 177, loss = 0.36033231\n",
            "Iteration 178, loss = 0.35993550\n",
            "Iteration 179, loss = 0.35951607\n",
            "Iteration 180, loss = 0.35908043\n",
            "Iteration 181, loss = 0.35872939\n",
            "Iteration 182, loss = 0.35821052\n",
            "Iteration 183, loss = 0.35781481\n",
            "Iteration 184, loss = 0.35741830\n",
            "Iteration 185, loss = 0.35700314\n",
            "Iteration 186, loss = 0.35660353\n",
            "Iteration 187, loss = 0.35620322\n",
            "Iteration 188, loss = 0.35579634\n",
            "Iteration 189, loss = 0.35544247\n",
            "Iteration 190, loss = 0.35503361\n",
            "Iteration 191, loss = 0.35467532\n",
            "Iteration 192, loss = 0.35428078\n",
            "Iteration 193, loss = 0.35389011\n",
            "Iteration 194, loss = 0.35357423\n",
            "Iteration 195, loss = 0.35332883\n",
            "Iteration 196, loss = 0.35294058\n",
            "Iteration 197, loss = 0.35253666\n",
            "Iteration 198, loss = 0.35221301\n",
            "Iteration 199, loss = 0.35184133\n",
            "Iteration 200, loss = 0.35149772\n",
            "Iteration 201, loss = 0.35116713\n",
            "Iteration 202, loss = 0.35085445\n",
            "Iteration 203, loss = 0.35057150\n",
            "Iteration 204, loss = 0.35021393\n",
            "Iteration 205, loss = 0.34987642\n",
            "Iteration 206, loss = 0.34955122\n",
            "Iteration 207, loss = 0.34919205\n",
            "Iteration 208, loss = 0.34888794\n",
            "Iteration 209, loss = 0.34856182\n",
            "Iteration 210, loss = 0.34828367\n",
            "Iteration 211, loss = 0.34792367\n",
            "Iteration 212, loss = 0.34770868\n",
            "Iteration 213, loss = 0.34732354\n",
            "Iteration 214, loss = 0.34703892\n",
            "Iteration 215, loss = 0.34676243\n",
            "Iteration 216, loss = 0.34647819\n",
            "Iteration 217, loss = 0.34619538\n",
            "Iteration 218, loss = 0.34590473\n",
            "Iteration 219, loss = 0.34561874\n",
            "Iteration 220, loss = 0.34532660\n",
            "Iteration 221, loss = 0.34506330\n",
            "Iteration 222, loss = 0.34474491\n",
            "Iteration 223, loss = 0.34449400\n",
            "Iteration 224, loss = 0.34416006\n",
            "Iteration 225, loss = 0.34388057\n",
            "Iteration 226, loss = 0.34367186\n",
            "Iteration 227, loss = 0.34340142\n",
            "Iteration 228, loss = 0.34306796\n",
            "Iteration 229, loss = 0.34279820\n",
            "Iteration 230, loss = 0.34267199\n",
            "Iteration 231, loss = 0.34232342\n",
            "Iteration 232, loss = 0.34205268\n",
            "Iteration 233, loss = 0.34179998\n",
            "Iteration 234, loss = 0.34156076\n",
            "Iteration 235, loss = 0.34130369\n",
            "Iteration 236, loss = 0.34107704\n",
            "Iteration 237, loss = 0.34079235\n",
            "Iteration 238, loss = 0.34060364\n",
            "Iteration 239, loss = 0.34026012\n",
            "Iteration 240, loss = 0.34001991\n",
            "Iteration 241, loss = 0.33980086\n",
            "Iteration 242, loss = 0.33952380\n",
            "Iteration 243, loss = 0.33929380\n",
            "Iteration 244, loss = 0.33915822\n",
            "Iteration 245, loss = 0.33887563\n",
            "Iteration 246, loss = 0.33863849\n",
            "Iteration 247, loss = 0.33848074\n",
            "Iteration 248, loss = 0.33816666\n",
            "Iteration 249, loss = 0.33805366\n",
            "Iteration 250, loss = 0.33775549\n",
            "Iteration 251, loss = 0.33755837\n",
            "Iteration 252, loss = 0.33732705\n",
            "Iteration 253, loss = 0.33709238\n",
            "Iteration 254, loss = 0.33696211\n",
            "Iteration 255, loss = 0.33674043\n",
            "Iteration 256, loss = 0.33650765\n",
            "Iteration 257, loss = 0.33631460\n",
            "Iteration 258, loss = 0.33616080\n",
            "Iteration 259, loss = 0.33591917\n",
            "Iteration 260, loss = 0.33567923\n",
            "Iteration 261, loss = 0.33549847\n",
            "Iteration 262, loss = 0.33520440\n",
            "Iteration 263, loss = 0.33499675\n",
            "Iteration 264, loss = 0.33477582\n",
            "Iteration 265, loss = 0.33452026\n",
            "Iteration 266, loss = 0.33446180\n",
            "Iteration 267, loss = 0.33419353\n",
            "Iteration 268, loss = 0.33393834\n",
            "Iteration 269, loss = 0.33374865\n",
            "Iteration 270, loss = 0.33351413\n",
            "Iteration 271, loss = 0.33330914\n",
            "Iteration 272, loss = 0.33304901\n",
            "Iteration 273, loss = 0.33287328\n",
            "Iteration 274, loss = 0.33271802\n",
            "Iteration 275, loss = 0.33239764\n",
            "Iteration 276, loss = 0.33217332\n",
            "Iteration 277, loss = 0.33199095\n",
            "Iteration 278, loss = 0.33180494\n",
            "Iteration 279, loss = 0.33154819\n",
            "Iteration 280, loss = 0.33136509\n",
            "Iteration 281, loss = 0.33118664\n",
            "Iteration 282, loss = 0.33102270\n",
            "Iteration 283, loss = 0.33072479\n",
            "Iteration 284, loss = 0.33053220\n",
            "Iteration 285, loss = 0.33034455\n",
            "Iteration 286, loss = 0.33012751\n",
            "Iteration 287, loss = 0.32993659\n",
            "Iteration 288, loss = 0.32974624\n",
            "Iteration 289, loss = 0.32953507\n",
            "Iteration 290, loss = 0.32935887\n",
            "Iteration 291, loss = 0.32916423\n",
            "Iteration 292, loss = 0.32897029\n",
            "Iteration 293, loss = 0.32878882\n",
            "Iteration 294, loss = 0.32862409\n",
            "Iteration 295, loss = 0.32848367\n",
            "Iteration 296, loss = 0.32829667\n",
            "Iteration 297, loss = 0.32806532\n",
            "Iteration 298, loss = 0.32793903\n",
            "Iteration 299, loss = 0.32773713\n",
            "Iteration 300, loss = 0.32756193\n",
            "Iteration 301, loss = 0.32752782\n",
            "Iteration 302, loss = 0.32727492\n",
            "Iteration 303, loss = 0.32707665\n",
            "Iteration 304, loss = 0.32696669\n",
            "Iteration 305, loss = 0.32682035\n",
            "Iteration 306, loss = 0.32672180\n",
            "Iteration 307, loss = 0.32648663\n",
            "Iteration 308, loss = 0.32630027\n",
            "Iteration 309, loss = 0.32614366\n",
            "Iteration 310, loss = 0.32607219\n",
            "Iteration 311, loss = 0.32591554\n",
            "Iteration 312, loss = 0.32575394\n",
            "Iteration 313, loss = 0.32554735\n",
            "Iteration 314, loss = 0.32546955\n",
            "Iteration 315, loss = 0.32524708\n",
            "Iteration 316, loss = 0.32512101\n",
            "Iteration 317, loss = 0.32496580\n",
            "Iteration 318, loss = 0.32482334\n",
            "Iteration 319, loss = 0.32474136\n",
            "Iteration 320, loss = 0.32460139\n",
            "Iteration 321, loss = 0.32447877\n",
            "Iteration 322, loss = 0.32430956\n",
            "Iteration 323, loss = 0.32416643\n",
            "Iteration 324, loss = 0.32399013\n",
            "Iteration 325, loss = 0.32396330\n",
            "Iteration 326, loss = 0.32367887\n",
            "Iteration 327, loss = 0.32359067\n",
            "Iteration 328, loss = 0.32343456\n",
            "Iteration 329, loss = 0.32333302\n",
            "Iteration 330, loss = 0.32317969\n",
            "Iteration 331, loss = 0.32303546\n",
            "Iteration 332, loss = 0.32291067\n",
            "Iteration 333, loss = 0.32276337\n",
            "Iteration 334, loss = 0.32264588\n",
            "Iteration 335, loss = 0.32249335\n",
            "Iteration 336, loss = 0.32235466\n",
            "Iteration 337, loss = 0.32223857\n",
            "Iteration 338, loss = 0.32208393\n",
            "Iteration 339, loss = 0.32200374\n",
            "Iteration 340, loss = 0.32185997\n",
            "Iteration 341, loss = 0.32168061\n",
            "Iteration 342, loss = 0.32156016\n",
            "Iteration 343, loss = 0.32140334\n",
            "Iteration 344, loss = 0.32130450\n",
            "Iteration 345, loss = 0.32118151\n",
            "Iteration 346, loss = 0.32109056\n",
            "Iteration 347, loss = 0.32096909\n",
            "Iteration 348, loss = 0.32080009\n",
            "Iteration 349, loss = 0.32073726\n",
            "Iteration 350, loss = 0.32062657\n",
            "Iteration 351, loss = 0.32039448\n",
            "Iteration 352, loss = 0.32025669\n",
            "Iteration 353, loss = 0.32013939\n",
            "Iteration 354, loss = 0.31996625\n",
            "Iteration 355, loss = 0.31982816\n",
            "Iteration 356, loss = 0.31978776\n",
            "Iteration 357, loss = 0.31966574\n",
            "Iteration 358, loss = 0.31952174\n",
            "Iteration 359, loss = 0.31938322\n",
            "Iteration 360, loss = 0.31928047\n",
            "Iteration 361, loss = 0.31916037\n",
            "Iteration 362, loss = 0.31906632\n",
            "Iteration 363, loss = 0.31891988\n",
            "Iteration 364, loss = 0.31891500\n",
            "Iteration 365, loss = 0.31870077\n",
            "Iteration 366, loss = 0.31861751\n",
            "Iteration 367, loss = 0.31851528\n",
            "Iteration 368, loss = 0.31843407\n",
            "Iteration 369, loss = 0.31830691\n",
            "Iteration 370, loss = 0.31823707\n",
            "Iteration 371, loss = 0.31801519\n",
            "Iteration 372, loss = 0.31799208\n",
            "Iteration 373, loss = 0.31784764\n",
            "Iteration 374, loss = 0.31778511\n",
            "Iteration 375, loss = 0.31761325\n",
            "Iteration 376, loss = 0.31748909\n",
            "Iteration 377, loss = 0.31744060\n",
            "Iteration 378, loss = 0.31728914\n",
            "Iteration 379, loss = 0.31720695\n",
            "Iteration 380, loss = 0.31714455\n",
            "Iteration 381, loss = 0.31698543\n",
            "Iteration 382, loss = 0.31687905\n",
            "Iteration 383, loss = 0.31679294\n",
            "Iteration 384, loss = 0.31670493\n",
            "Iteration 385, loss = 0.31664464\n",
            "Iteration 386, loss = 0.31656553\n",
            "Iteration 387, loss = 0.31639567\n",
            "Iteration 388, loss = 0.31628692\n",
            "Iteration 389, loss = 0.31622512\n",
            "Iteration 390, loss = 0.31611219\n",
            "Iteration 391, loss = 0.31602079\n",
            "Iteration 392, loss = 0.31593070\n",
            "Iteration 393, loss = 0.31575891\n",
            "Iteration 394, loss = 0.31575473\n",
            "Iteration 395, loss = 0.31568144\n",
            "Iteration 396, loss = 0.31560512\n",
            "Iteration 397, loss = 0.31554591\n",
            "Iteration 398, loss = 0.31538498\n",
            "Iteration 399, loss = 0.31528643\n",
            "Iteration 400, loss = 0.31518210\n",
            "Iteration 401, loss = 0.31513388\n",
            "Iteration 402, loss = 0.31507097\n",
            "Iteration 403, loss = 0.31491760\n",
            "Iteration 404, loss = 0.31482175\n",
            "Iteration 405, loss = 0.31475336\n",
            "Iteration 406, loss = 0.31472006\n",
            "Iteration 407, loss = 0.31462980\n",
            "Iteration 408, loss = 0.31460122\n",
            "Iteration 409, loss = 0.31443946\n",
            "Iteration 410, loss = 0.31431067\n",
            "Iteration 411, loss = 0.31425621\n",
            "Iteration 412, loss = 0.31421235\n",
            "Iteration 413, loss = 0.31423461\n",
            "Iteration 414, loss = 0.31408252\n",
            "Iteration 415, loss = 0.31391728\n",
            "Iteration 416, loss = 0.31388607\n",
            "Iteration 417, loss = 0.31376619\n",
            "Iteration 418, loss = 0.31372582\n",
            "Iteration 419, loss = 0.31371789\n",
            "Iteration 420, loss = 0.31357553\n",
            "Iteration 421, loss = 0.31350638\n",
            "Iteration 422, loss = 0.31346280\n",
            "Iteration 423, loss = 0.31331421\n",
            "Iteration 424, loss = 0.31325025\n",
            "Iteration 425, loss = 0.31315516\n",
            "Iteration 426, loss = 0.31306065\n",
            "Iteration 427, loss = 0.31311784\n",
            "Iteration 428, loss = 0.31294487\n",
            "Iteration 429, loss = 0.31282291\n",
            "Iteration 430, loss = 0.31278935\n",
            "Iteration 431, loss = 0.31262383\n",
            "Iteration 432, loss = 0.31254420\n",
            "Iteration 433, loss = 0.31257125\n",
            "Iteration 434, loss = 0.31235052\n",
            "Iteration 435, loss = 0.31223577\n",
            "Iteration 436, loss = 0.31219525\n",
            "Iteration 437, loss = 0.31210399\n",
            "Iteration 438, loss = 0.31215745\n",
            "Iteration 439, loss = 0.31195050\n",
            "Iteration 440, loss = 0.31187447\n",
            "Iteration 441, loss = 0.31173414\n",
            "Iteration 442, loss = 0.31168917\n",
            "Iteration 443, loss = 0.31159361\n",
            "Iteration 444, loss = 0.31152129\n",
            "Iteration 445, loss = 0.31137577\n",
            "Iteration 446, loss = 0.31133803\n",
            "Iteration 447, loss = 0.31117511\n",
            "Iteration 448, loss = 0.31113334\n",
            "Iteration 449, loss = 0.31103546\n",
            "Iteration 450, loss = 0.31102305\n",
            "Iteration 451, loss = 0.31086735\n",
            "Iteration 452, loss = 0.31078543\n",
            "Iteration 453, loss = 0.31072763\n",
            "Iteration 454, loss = 0.31066197\n",
            "Iteration 455, loss = 0.31051259\n",
            "Iteration 456, loss = 0.31042075\n",
            "Iteration 457, loss = 0.31035674\n",
            "Iteration 458, loss = 0.31028289\n",
            "Iteration 459, loss = 0.31019384\n",
            "Iteration 460, loss = 0.31002965\n",
            "Iteration 461, loss = 0.31000776\n",
            "Iteration 462, loss = 0.30985858\n",
            "Iteration 463, loss = 0.30981464\n",
            "Iteration 464, loss = 0.30967150\n",
            "Iteration 465, loss = 0.30956864\n",
            "Iteration 466, loss = 0.30951923\n",
            "Iteration 467, loss = 0.30941952\n",
            "Iteration 468, loss = 0.30927495\n",
            "Iteration 469, loss = 0.30925238\n",
            "Iteration 470, loss = 0.30916722\n",
            "Iteration 471, loss = 0.30909913\n",
            "Iteration 472, loss = 0.30893764\n",
            "Iteration 473, loss = 0.30888099\n",
            "Iteration 474, loss = 0.30880681\n",
            "Iteration 475, loss = 0.30876771\n",
            "Iteration 476, loss = 0.30866027\n",
            "Iteration 477, loss = 0.30854281\n",
            "Iteration 478, loss = 0.30852268\n",
            "Iteration 479, loss = 0.30846038\n",
            "Iteration 480, loss = 0.30838650\n",
            "Iteration 481, loss = 0.30829030\n",
            "Iteration 482, loss = 0.30813833\n",
            "Iteration 483, loss = 0.30807645\n",
            "Iteration 484, loss = 0.30792635\n",
            "Iteration 485, loss = 0.30787143\n",
            "Iteration 486, loss = 0.30774766\n",
            "Iteration 487, loss = 0.30771462\n",
            "Iteration 488, loss = 0.30762085\n",
            "Iteration 489, loss = 0.30751072\n",
            "Iteration 490, loss = 0.30747694\n",
            "Iteration 491, loss = 0.30746665\n",
            "Iteration 492, loss = 0.30733074\n",
            "Iteration 493, loss = 0.30731180\n",
            "Iteration 494, loss = 0.30716886\n",
            "Iteration 495, loss = 0.30707614\n",
            "Iteration 496, loss = 0.30700518\n",
            "Iteration 497, loss = 0.30691035\n",
            "Iteration 498, loss = 0.30686670\n",
            "Iteration 499, loss = 0.30685587\n",
            "Iteration 500, loss = 0.30669772\n",
            "Iteration 501, loss = 0.30661518\n",
            "Iteration 502, loss = 0.30660662\n",
            "Iteration 503, loss = 0.30650371\n",
            "Iteration 504, loss = 0.30646560\n",
            "Iteration 505, loss = 0.30638933\n",
            "Iteration 506, loss = 0.30634747\n",
            "Iteration 507, loss = 0.30623540\n",
            "Iteration 508, loss = 0.30617072\n",
            "Iteration 509, loss = 0.30607115\n",
            "Iteration 510, loss = 0.30598510\n",
            "Iteration 511, loss = 0.30597689\n",
            "Iteration 512, loss = 0.30594392\n",
            "Iteration 513, loss = 0.30582643\n",
            "Iteration 514, loss = 0.30569270\n",
            "Iteration 515, loss = 0.30560678\n",
            "Iteration 516, loss = 0.30555946\n",
            "Iteration 517, loss = 0.30554070\n",
            "Iteration 518, loss = 0.30542273\n",
            "Iteration 519, loss = 0.30532785\n",
            "Iteration 520, loss = 0.30536225\n",
            "Iteration 521, loss = 0.30528300\n",
            "Iteration 522, loss = 0.30514794\n",
            "Iteration 523, loss = 0.30508304\n",
            "Iteration 524, loss = 0.30496915\n",
            "Iteration 525, loss = 0.30488531\n",
            "Iteration 526, loss = 0.30485995\n",
            "Iteration 527, loss = 0.30488548\n",
            "Iteration 528, loss = 0.30477991\n",
            "Iteration 529, loss = 0.30478676\n",
            "Iteration 530, loss = 0.30479846\n",
            "Iteration 531, loss = 0.30445457\n",
            "Iteration 532, loss = 0.30435901\n",
            "Iteration 533, loss = 0.30428281\n",
            "Iteration 534, loss = 0.30430590\n",
            "Iteration 535, loss = 0.30419775\n",
            "Iteration 536, loss = 0.30410043\n",
            "Iteration 537, loss = 0.30412588\n",
            "Iteration 538, loss = 0.30402920\n",
            "Iteration 539, loss = 0.30392468\n",
            "Iteration 540, loss = 0.30385200\n",
            "Iteration 541, loss = 0.30380768\n",
            "Iteration 542, loss = 0.30372725\n",
            "Iteration 543, loss = 0.30371465\n",
            "Iteration 544, loss = 0.30367398\n",
            "Iteration 545, loss = 0.30357359\n",
            "Iteration 546, loss = 0.30348648\n",
            "Iteration 547, loss = 0.30337383\n",
            "Iteration 548, loss = 0.30330714\n",
            "Iteration 549, loss = 0.30322692\n",
            "Iteration 550, loss = 0.30325741\n",
            "Iteration 551, loss = 0.30309985\n",
            "Iteration 552, loss = 0.30315788\n",
            "Iteration 553, loss = 0.30312801\n",
            "Iteration 554, loss = 0.30297736\n",
            "Iteration 555, loss = 0.30284366\n",
            "Iteration 556, loss = 0.30284374\n",
            "Iteration 557, loss = 0.30281444\n",
            "Iteration 558, loss = 0.30269735\n",
            "Iteration 559, loss = 0.30264728\n",
            "Iteration 560, loss = 0.30256893\n",
            "Iteration 561, loss = 0.30252175\n",
            "Iteration 562, loss = 0.30248354\n",
            "Iteration 563, loss = 0.30243560\n",
            "Iteration 564, loss = 0.30241147\n",
            "Iteration 565, loss = 0.30233655\n",
            "Iteration 566, loss = 0.30218000\n",
            "Iteration 567, loss = 0.30219977\n",
            "Iteration 568, loss = 0.30206676\n",
            "Iteration 569, loss = 0.30203081\n",
            "Iteration 570, loss = 0.30199292\n",
            "Iteration 571, loss = 0.30189851\n",
            "Iteration 572, loss = 0.30184011\n",
            "Iteration 573, loss = 0.30172079\n",
            "Iteration 574, loss = 0.30171355\n",
            "Iteration 575, loss = 0.30166243\n",
            "Iteration 576, loss = 0.30165263\n",
            "Iteration 577, loss = 0.30154960\n",
            "Iteration 578, loss = 0.30145213\n",
            "Iteration 579, loss = 0.30139968\n",
            "Iteration 580, loss = 0.30129068\n",
            "Iteration 581, loss = 0.30127777\n",
            "Iteration 582, loss = 0.30119830\n",
            "Iteration 583, loss = 0.30130936\n",
            "Iteration 584, loss = 0.30115881\n",
            "Iteration 585, loss = 0.30104169\n",
            "Iteration 586, loss = 0.30095983\n",
            "Iteration 587, loss = 0.30091335\n",
            "Iteration 588, loss = 0.30082731\n",
            "Iteration 589, loss = 0.30077075\n",
            "Iteration 590, loss = 0.30068511\n",
            "Iteration 591, loss = 0.30074067\n",
            "Iteration 592, loss = 0.30063543\n",
            "Iteration 593, loss = 0.30057786\n",
            "Iteration 594, loss = 0.30053423\n",
            "Iteration 595, loss = 0.30051573\n",
            "Iteration 596, loss = 0.30044910\n",
            "Training loss did not improve more than tol=0.000100 for 10 consecutive epochs. Stopping.\n"
          ]
        }
      ]
    },
    {
      "cell_type": "code",
      "source": [
        "print('Number of Layer =', mlp.n_layers_)\n",
        "print('Number of Iteration =', mlp.n_iter_)\n",
        "print('Current loss computed with the loss function =', mlp.loss_)"
      ],
      "metadata": {
        "colab": {
          "base_uri": "https://localhost:8080/"
        },
        "id": "hneprPlnElZL",
        "outputId": "319a5a57-d909-4564-80b2-998fcc1107ad"
      },
      "execution_count": null,
      "outputs": [
        {
          "output_type": "stream",
          "name": "stdout",
          "text": [
            "Number of Layer = 3\n",
            "Number of Iteration = 596\n",
            "Current loss computed with the loss function = 0.3004491024600666\n"
          ]
        }
      ]
    },
    {
      "cell_type": "code",
      "source": [
        "mlpac = metrics.accuracy_score(y_test, y_predmlp)\n",
        "print(\"Accuracy : \", mlpac)\n",
        "print(classification_report(y_test, y_predmlp))"
      ],
      "metadata": {
        "colab": {
          "base_uri": "https://localhost:8080/"
        },
        "id": "bnk68DMEEos3",
        "outputId": "46d69bbd-05fc-455e-d4b8-87f0bdaa4e9e"
      },
      "execution_count": null,
      "outputs": [
        {
          "output_type": "stream",
          "name": "stdout",
          "text": [
            "Accuracy :  0.84375\n",
            "              precision    recall  f1-score   support\n",
            "\n",
            "           0       0.82      0.84      0.83       144\n",
            "           1       0.87      0.85      0.86       176\n",
            "\n",
            "    accuracy                           0.84       320\n",
            "   macro avg       0.84      0.84      0.84       320\n",
            "weighted avg       0.84      0.84      0.84       320\n",
            "\n"
          ]
        }
      ]
    },
    {
      "cell_type": "markdown",
      "source": [
        "# **RANDOM FOREST**"
      ],
      "metadata": {
        "id": "ySxyw7ooEsN2"
      }
    },
    {
      "cell_type": "code",
      "source": [
        "import sklearn.datasets\n",
        "import pandas as pd\n",
        "import numpy as np\n",
        "from sklearn.model_selection import train_test_split\n",
        "from sklearn import metrics #Import scikit-learn metrics module for accuracy calculation\n",
        "import sklearn\n",
        "from sklearn.ensemble import RandomForestClassifier"
      ],
      "metadata": {
        "id": "DJFnJASNEuSh"
      },
      "execution_count": null,
      "outputs": []
    },
    {
      "cell_type": "code",
      "source": [
        "rfc=RandomForestClassifier(n_estimators=200, max_depth=10)\n",
        "x_train,x_test,y_train,y_test = train_test_split(x,y,test_size=0.20,random_state=42)\n"
      ],
      "metadata": {
        "id": "k6-oKyLeEw-8"
      },
      "execution_count": null,
      "outputs": []
    },
    {
      "cell_type": "code",
      "source": [
        "rfc.fit(x_train,y_train)"
      ],
      "metadata": {
        "colab": {
          "base_uri": "https://localhost:8080/",
          "height": 74
        },
        "id": "GTHEU1c6E0ru",
        "outputId": "b57d7dd3-2440-404f-8fb6-1419d973b298"
      },
      "execution_count": null,
      "outputs": [
        {
          "output_type": "execute_result",
          "data": {
            "text/plain": [
              "RandomForestClassifier(max_depth=10, n_estimators=200)"
            ],
            "text/html": [
              "<style>#sk-container-id-6 {color: black;background-color: white;}#sk-container-id-6 pre{padding: 0;}#sk-container-id-6 div.sk-toggleable {background-color: white;}#sk-container-id-6 label.sk-toggleable__label {cursor: pointer;display: block;width: 100%;margin-bottom: 0;padding: 0.3em;box-sizing: border-box;text-align: center;}#sk-container-id-6 label.sk-toggleable__label-arrow:before {content: \"▸\";float: left;margin-right: 0.25em;color: #696969;}#sk-container-id-6 label.sk-toggleable__label-arrow:hover:before {color: black;}#sk-container-id-6 div.sk-estimator:hover label.sk-toggleable__label-arrow:before {color: black;}#sk-container-id-6 div.sk-toggleable__content {max-height: 0;max-width: 0;overflow: hidden;text-align: left;background-color: #f0f8ff;}#sk-container-id-6 div.sk-toggleable__content pre {margin: 0.2em;color: black;border-radius: 0.25em;background-color: #f0f8ff;}#sk-container-id-6 input.sk-toggleable__control:checked~div.sk-toggleable__content {max-height: 200px;max-width: 100%;overflow: auto;}#sk-container-id-6 input.sk-toggleable__control:checked~label.sk-toggleable__label-arrow:before {content: \"▾\";}#sk-container-id-6 div.sk-estimator input.sk-toggleable__control:checked~label.sk-toggleable__label {background-color: #d4ebff;}#sk-container-id-6 div.sk-label input.sk-toggleable__control:checked~label.sk-toggleable__label {background-color: #d4ebff;}#sk-container-id-6 input.sk-hidden--visually {border: 0;clip: rect(1px 1px 1px 1px);clip: rect(1px, 1px, 1px, 1px);height: 1px;margin: -1px;overflow: hidden;padding: 0;position: absolute;width: 1px;}#sk-container-id-6 div.sk-estimator {font-family: monospace;background-color: #f0f8ff;border: 1px dotted black;border-radius: 0.25em;box-sizing: border-box;margin-bottom: 0.5em;}#sk-container-id-6 div.sk-estimator:hover {background-color: #d4ebff;}#sk-container-id-6 div.sk-parallel-item::after {content: \"\";width: 100%;border-bottom: 1px solid gray;flex-grow: 1;}#sk-container-id-6 div.sk-label:hover label.sk-toggleable__label {background-color: #d4ebff;}#sk-container-id-6 div.sk-serial::before {content: \"\";position: absolute;border-left: 1px solid gray;box-sizing: border-box;top: 0;bottom: 0;left: 50%;z-index: 0;}#sk-container-id-6 div.sk-serial {display: flex;flex-direction: column;align-items: center;background-color: white;padding-right: 0.2em;padding-left: 0.2em;position: relative;}#sk-container-id-6 div.sk-item {position: relative;z-index: 1;}#sk-container-id-6 div.sk-parallel {display: flex;align-items: stretch;justify-content: center;background-color: white;position: relative;}#sk-container-id-6 div.sk-item::before, #sk-container-id-6 div.sk-parallel-item::before {content: \"\";position: absolute;border-left: 1px solid gray;box-sizing: border-box;top: 0;bottom: 0;left: 50%;z-index: -1;}#sk-container-id-6 div.sk-parallel-item {display: flex;flex-direction: column;z-index: 1;position: relative;background-color: white;}#sk-container-id-6 div.sk-parallel-item:first-child::after {align-self: flex-end;width: 50%;}#sk-container-id-6 div.sk-parallel-item:last-child::after {align-self: flex-start;width: 50%;}#sk-container-id-6 div.sk-parallel-item:only-child::after {width: 0;}#sk-container-id-6 div.sk-dashed-wrapped {border: 1px dashed gray;margin: 0 0.4em 0.5em 0.4em;box-sizing: border-box;padding-bottom: 0.4em;background-color: white;}#sk-container-id-6 div.sk-label label {font-family: monospace;font-weight: bold;display: inline-block;line-height: 1.2em;}#sk-container-id-6 div.sk-label-container {text-align: center;}#sk-container-id-6 div.sk-container {/* jupyter's `normalize.less` sets `[hidden] { display: none; }` but bootstrap.min.css set `[hidden] { display: none !important; }` so we also need the `!important` here to be able to override the default hidden behavior on the sphinx rendered scikit-learn.org. See: https://github.com/scikit-learn/scikit-learn/issues/21755 */display: inline-block !important;position: relative;}#sk-container-id-6 div.sk-text-repr-fallback {display: none;}</style><div id=\"sk-container-id-6\" class=\"sk-top-container\"><div class=\"sk-text-repr-fallback\"><pre>RandomForestClassifier(max_depth=10, n_estimators=200)</pre><b>In a Jupyter environment, please rerun this cell to show the HTML representation or trust the notebook. <br />On GitHub, the HTML representation is unable to render, please try loading this page with nbviewer.org.</b></div><div class=\"sk-container\" hidden><div class=\"sk-item\"><div class=\"sk-estimator sk-toggleable\"><input class=\"sk-toggleable__control sk-hidden--visually\" id=\"sk-estimator-id-8\" type=\"checkbox\" checked><label for=\"sk-estimator-id-8\" class=\"sk-toggleable__label sk-toggleable__label-arrow\">RandomForestClassifier</label><div class=\"sk-toggleable__content\"><pre>RandomForestClassifier(max_depth=10, n_estimators=200)</pre></div></div></div></div></div>"
            ]
          },
          "metadata": {},
          "execution_count": 70
        }
      ]
    },
    {
      "cell_type": "code",
      "source": [
        "y_pred=rfc.predict(x_test)\n",
        "y_pred\n"
      ],
      "metadata": {
        "colab": {
          "base_uri": "https://localhost:8080/"
        },
        "id": "tSI-lDXcE08r",
        "outputId": "b63cda3e-c724-4d1d-cc67-3468c4bf6414"
      },
      "execution_count": null,
      "outputs": [
        {
          "output_type": "execute_result",
          "data": {
            "text/plain": [
              "array([0, 1, 1, 0, 1, 1, 0, 1, 1, 0, 0, 0, 0, 0, 1, 0, 1, 1, 0, 0, 1, 0,\n",
              "       1, 0, 0, 1, 0, 0, 1, 1, 0, 1, 1, 0, 0, 0, 0, 0, 0, 1, 1, 0, 1, 0,\n",
              "       0, 0, 0, 1, 1, 1, 1, 1, 0, 0, 0, 0, 1, 1, 1, 0, 1, 1, 0, 1, 1, 1,\n",
              "       1, 1, 0, 1, 1, 1, 1, 1, 0, 0, 0, 0, 1, 0, 1, 1, 1, 1, 1, 1, 0, 1,\n",
              "       1, 1, 1, 1, 0, 0, 1, 0, 0, 1, 0, 0, 1, 1, 0, 1, 0, 0, 0, 1, 0, 1,\n",
              "       1, 0, 1, 0, 1, 1, 1, 0, 1, 0, 0, 1, 1, 1, 0, 1, 1, 0, 1, 0, 1, 1,\n",
              "       1, 0, 1, 0, 1, 1, 0, 1, 0, 0, 0, 0, 0, 0, 1, 1, 0, 1, 0, 1, 1, 0,\n",
              "       1, 0, 1, 1, 1, 0, 0, 0, 0, 1, 0, 1, 0, 0, 0, 1, 1, 0, 0, 1, 0, 1,\n",
              "       0, 0, 0, 1, 1, 1, 0, 1, 1, 1, 0, 0, 1, 1, 0, 1, 1, 1, 0, 1, 1, 0,\n",
              "       1, 1, 0, 1, 1, 0, 0, 1, 0, 0, 1, 0, 0, 0, 1, 0, 1, 1, 1, 1, 1, 1,\n",
              "       1, 1, 0, 0, 1, 1, 1, 1, 1, 0, 1, 1, 0, 1, 0, 1, 1, 1, 0, 1, 1, 0,\n",
              "       0, 0, 0, 1, 0, 0, 1, 1, 1, 0, 1, 0, 0, 1, 1, 0, 1, 1, 1, 1, 1, 1,\n",
              "       0, 1, 1, 0, 0, 1, 1, 0, 0, 0, 1, 1, 0, 1, 0, 1, 1, 1, 0, 1, 0, 1,\n",
              "       1, 0, 0, 0, 0, 1, 0, 0, 0, 1, 0, 1, 1, 1, 0, 0, 0, 0, 0, 0, 1, 1,\n",
              "       1, 1, 1, 1, 1, 1, 0, 0, 1, 1, 0, 1])"
            ]
          },
          "metadata": {},
          "execution_count": 71
        }
      ]
    },
    {
      "cell_type": "code",
      "source": [
        "from sklearn import metrics\n",
        "from sklearn.metrics import accuracy_score\n",
        "rfcac=accuracy_score(y_test, y_pred)\n",
        "print(\"Accuracy : \", rfcac)\n",
        "print(classification_report(y_test, y_pred))"
      ],
      "metadata": {
        "colab": {
          "base_uri": "https://localhost:8080/"
        },
        "id": "fbbTCjdjE420",
        "outputId": "5cdd76b0-d2b5-4745-e67d-21b90e4222ff"
      },
      "execution_count": null,
      "outputs": [
        {
          "output_type": "stream",
          "name": "stdout",
          "text": [
            "Accuracy :  0.978125\n",
            "              precision    recall  f1-score   support\n",
            "\n",
            "           0       0.97      0.98      0.98       144\n",
            "           1       0.98      0.98      0.98       176\n",
            "\n",
            "    accuracy                           0.98       320\n",
            "   macro avg       0.98      0.98      0.98       320\n",
            "weighted avg       0.98      0.98      0.98       320\n",
            "\n"
          ]
        }
      ]
    },
    {
      "cell_type": "markdown",
      "source": [
        "# **CATBOOST CLASSIFIER**"
      ],
      "metadata": {
        "id": "tHS410RQE8oE"
      }
    },
    {
      "cell_type": "code",
      "source": [
        "!pip install catboost"
      ],
      "metadata": {
        "colab": {
          "base_uri": "https://localhost:8080/"
        },
        "id": "bEVqWmW2FAE1",
        "outputId": "732af123-ff45-428e-c4d4-a48d27dc1fbb"
      },
      "execution_count": null,
      "outputs": [
        {
          "output_type": "stream",
          "name": "stdout",
          "text": [
            "Collecting catboost\n",
            "  Downloading catboost-1.2.2-cp310-cp310-manylinux2014_x86_64.whl (98.7 MB)\n",
            "\u001b[2K     \u001b[90m━━━━━━━━━━━━━━━━━━━━━━━━━━━━━━━━━━━━━━━━\u001b[0m \u001b[32m98.7/98.7 MB\u001b[0m \u001b[31m2.3 MB/s\u001b[0m eta \u001b[36m0:00:00\u001b[0m\n",
            "\u001b[?25hRequirement already satisfied: graphviz in /usr/local/lib/python3.10/dist-packages (from catboost) (0.20.1)\n",
            "Requirement already satisfied: matplotlib in /usr/local/lib/python3.10/dist-packages (from catboost) (3.7.1)\n",
            "Requirement already satisfied: numpy>=1.16.0 in /usr/local/lib/python3.10/dist-packages (from catboost) (1.23.5)\n",
            "Requirement already satisfied: pandas>=0.24 in /usr/local/lib/python3.10/dist-packages (from catboost) (1.5.3)\n",
            "Requirement already satisfied: scipy in /usr/local/lib/python3.10/dist-packages (from catboost) (1.11.4)\n",
            "Requirement already satisfied: plotly in /usr/local/lib/python3.10/dist-packages (from catboost) (5.15.0)\n",
            "Requirement already satisfied: six in /usr/local/lib/python3.10/dist-packages (from catboost) (1.16.0)\n",
            "Requirement already satisfied: python-dateutil>=2.8.1 in /usr/local/lib/python3.10/dist-packages (from pandas>=0.24->catboost) (2.8.2)\n",
            "Requirement already satisfied: pytz>=2020.1 in /usr/local/lib/python3.10/dist-packages (from pandas>=0.24->catboost) (2023.3.post1)\n",
            "Requirement already satisfied: contourpy>=1.0.1 in /usr/local/lib/python3.10/dist-packages (from matplotlib->catboost) (1.2.0)\n",
            "Requirement already satisfied: cycler>=0.10 in /usr/local/lib/python3.10/dist-packages (from matplotlib->catboost) (0.12.1)\n",
            "Requirement already satisfied: fonttools>=4.22.0 in /usr/local/lib/python3.10/dist-packages (from matplotlib->catboost) (4.47.2)\n",
            "Requirement already satisfied: kiwisolver>=1.0.1 in /usr/local/lib/python3.10/dist-packages (from matplotlib->catboost) (1.4.5)\n",
            "Requirement already satisfied: packaging>=20.0 in /usr/local/lib/python3.10/dist-packages (from matplotlib->catboost) (23.2)\n",
            "Requirement already satisfied: pillow>=6.2.0 in /usr/local/lib/python3.10/dist-packages (from matplotlib->catboost) (9.4.0)\n",
            "Requirement already satisfied: pyparsing>=2.3.1 in /usr/local/lib/python3.10/dist-packages (from matplotlib->catboost) (3.1.1)\n",
            "Requirement already satisfied: tenacity>=6.2.0 in /usr/local/lib/python3.10/dist-packages (from plotly->catboost) (8.2.3)\n",
            "Installing collected packages: catboost\n",
            "Successfully installed catboost-1.2.2\n"
          ]
        }
      ]
    },
    {
      "cell_type": "code",
      "source": [
        "from catboost import CatBoostClassifier\n",
        "from sklearn.model_selection import train_test_split\n",
        "from sklearn.metrics import accuracy_score"
      ],
      "metadata": {
        "id": "_ypeKzrvFAcc"
      },
      "execution_count": null,
      "outputs": []
    },
    {
      "cell_type": "code",
      "source": [
        "CAT = CatBoostClassifier(iterations=100,depth=2,learning_rate=1,loss_function='Logloss',verbose=True)"
      ],
      "metadata": {
        "id": "LK4g25BHFIN_"
      },
      "execution_count": null,
      "outputs": []
    },
    {
      "cell_type": "code",
      "source": [
        "CAT.fit(x_train,y_train)"
      ],
      "metadata": {
        "colab": {
          "base_uri": "https://localhost:8080/"
        },
        "id": "oTcjH-lsFK4e",
        "outputId": "959fff0f-0a54-4f9d-8917-1b50196f0189"
      },
      "execution_count": null,
      "outputs": [
        {
          "output_type": "stream",
          "name": "stdout",
          "text": [
            "0:\tlearn: 0.5253174\ttotal: 46.4ms\tremaining: 4.59s\n",
            "1:\tlearn: 0.4742260\ttotal: 46.7ms\tremaining: 2.29s\n",
            "2:\tlearn: 0.4082588\ttotal: 46.9ms\tremaining: 1.52s\n",
            "3:\tlearn: 0.4037803\ttotal: 47.3ms\tremaining: 1.13s\n",
            "4:\tlearn: 0.3878142\ttotal: 47.7ms\tremaining: 907ms\n",
            "5:\tlearn: 0.3788445\ttotal: 48.1ms\tremaining: 753ms\n",
            "6:\tlearn: 0.3690805\ttotal: 48.5ms\tremaining: 644ms\n",
            "7:\tlearn: 0.3498654\ttotal: 48.9ms\tremaining: 562ms\n",
            "8:\tlearn: 0.3316258\ttotal: 49.3ms\tremaining: 498ms\n",
            "9:\tlearn: 0.3186395\ttotal: 49.7ms\tremaining: 447ms\n",
            "10:\tlearn: 0.3080758\ttotal: 50ms\tremaining: 405ms\n",
            "11:\tlearn: 0.3037203\ttotal: 50.4ms\tremaining: 370ms\n",
            "12:\tlearn: 0.3007510\ttotal: 50.7ms\tremaining: 340ms\n",
            "13:\tlearn: 0.2976075\ttotal: 51.2ms\tremaining: 314ms\n",
            "14:\tlearn: 0.2886619\ttotal: 51.4ms\tremaining: 291ms\n",
            "15:\tlearn: 0.2869637\ttotal: 51.7ms\tremaining: 271ms\n",
            "16:\tlearn: 0.2817817\ttotal: 52ms\tremaining: 254ms\n",
            "17:\tlearn: 0.2757493\ttotal: 52.4ms\tremaining: 239ms\n",
            "18:\tlearn: 0.2687522\ttotal: 52.8ms\tremaining: 225ms\n",
            "19:\tlearn: 0.2638691\ttotal: 53.2ms\tremaining: 213ms\n",
            "20:\tlearn: 0.2610061\ttotal: 53.6ms\tremaining: 202ms\n",
            "21:\tlearn: 0.2525338\ttotal: 53.9ms\tremaining: 191ms\n",
            "22:\tlearn: 0.2507799\ttotal: 54.3ms\tremaining: 182ms\n",
            "23:\tlearn: 0.2452690\ttotal: 54.8ms\tremaining: 173ms\n",
            "24:\tlearn: 0.2415536\ttotal: 55.1ms\tremaining: 165ms\n",
            "25:\tlearn: 0.2403180\ttotal: 55.5ms\tremaining: 158ms\n",
            "26:\tlearn: 0.2392499\ttotal: 56ms\tremaining: 151ms\n",
            "27:\tlearn: 0.2380159\ttotal: 56.4ms\tremaining: 145ms\n",
            "28:\tlearn: 0.2372609\ttotal: 56.8ms\tremaining: 139ms\n",
            "29:\tlearn: 0.2362633\ttotal: 57.2ms\tremaining: 133ms\n",
            "30:\tlearn: 0.2356000\ttotal: 57.6ms\tremaining: 128ms\n",
            "31:\tlearn: 0.2349412\ttotal: 58.1ms\tremaining: 123ms\n",
            "32:\tlearn: 0.2346677\ttotal: 58.5ms\tremaining: 119ms\n",
            "33:\tlearn: 0.2304629\ttotal: 59ms\tremaining: 114ms\n",
            "34:\tlearn: 0.2298088\ttotal: 59.4ms\tremaining: 110ms\n",
            "35:\tlearn: 0.2253179\ttotal: 59.8ms\tremaining: 106ms\n",
            "36:\tlearn: 0.2231064\ttotal: 60.2ms\tremaining: 103ms\n",
            "37:\tlearn: 0.2222110\ttotal: 60.6ms\tremaining: 98.9ms\n",
            "38:\tlearn: 0.2203405\ttotal: 61.1ms\tremaining: 95.5ms\n",
            "39:\tlearn: 0.2166233\ttotal: 61.5ms\tremaining: 92.2ms\n",
            "40:\tlearn: 0.2156891\ttotal: 61.9ms\tremaining: 89.1ms\n",
            "41:\tlearn: 0.2143803\ttotal: 62.3ms\tremaining: 86.1ms\n",
            "42:\tlearn: 0.2088499\ttotal: 63ms\tremaining: 83.5ms\n",
            "43:\tlearn: 0.2071477\ttotal: 63.2ms\tremaining: 80.5ms\n",
            "44:\tlearn: 0.2064552\ttotal: 63.7ms\tremaining: 77.8ms\n",
            "45:\tlearn: 0.2058341\ttotal: 64.1ms\tremaining: 75.2ms\n",
            "46:\tlearn: 0.2050184\ttotal: 64.5ms\tremaining: 72.7ms\n",
            "47:\tlearn: 0.2033181\ttotal: 64.9ms\tremaining: 70.3ms\n",
            "48:\tlearn: 0.2027299\ttotal: 65.3ms\tremaining: 68ms\n",
            "49:\tlearn: 0.1997951\ttotal: 65.7ms\tremaining: 65.7ms\n",
            "50:\tlearn: 0.1995136\ttotal: 66.1ms\tremaining: 63.5ms\n",
            "51:\tlearn: 0.1959111\ttotal: 66.5ms\tremaining: 61.4ms\n",
            "52:\tlearn: 0.1925455\ttotal: 66.9ms\tremaining: 59.3ms\n",
            "53:\tlearn: 0.1907664\ttotal: 67.3ms\tremaining: 57.3ms\n",
            "54:\tlearn: 0.1903322\ttotal: 67.7ms\tremaining: 55.4ms\n",
            "55:\tlearn: 0.1873148\ttotal: 68.1ms\tremaining: 53.5ms\n",
            "56:\tlearn: 0.1868050\ttotal: 68.5ms\tremaining: 51.7ms\n",
            "57:\tlearn: 0.1861171\ttotal: 68.9ms\tremaining: 49.9ms\n",
            "58:\tlearn: 0.1857674\ttotal: 69.3ms\tremaining: 48.2ms\n",
            "59:\tlearn: 0.1837801\ttotal: 69.7ms\tremaining: 46.5ms\n",
            "60:\tlearn: 0.1796718\ttotal: 70.1ms\tremaining: 44.8ms\n",
            "61:\tlearn: 0.1773669\ttotal: 70.5ms\tremaining: 43.2ms\n",
            "62:\tlearn: 0.1766955\ttotal: 70.9ms\tremaining: 41.7ms\n",
            "63:\tlearn: 0.1748699\ttotal: 71.4ms\tremaining: 40.1ms\n",
            "64:\tlearn: 0.1745066\ttotal: 71.8ms\tremaining: 38.7ms\n",
            "65:\tlearn: 0.1741232\ttotal: 72.2ms\tremaining: 37.2ms\n",
            "66:\tlearn: 0.1729320\ttotal: 72.6ms\tremaining: 35.8ms\n",
            "67:\tlearn: 0.1723777\ttotal: 73.1ms\tremaining: 34.4ms\n",
            "68:\tlearn: 0.1718876\ttotal: 73.5ms\tremaining: 33ms\n",
            "69:\tlearn: 0.1706705\ttotal: 73.9ms\tremaining: 31.7ms\n",
            "70:\tlearn: 0.1696964\ttotal: 74.3ms\tremaining: 30.3ms\n",
            "71:\tlearn: 0.1678857\ttotal: 74.7ms\tremaining: 29ms\n",
            "72:\tlearn: 0.1663639\ttotal: 75.1ms\tremaining: 27.8ms\n",
            "73:\tlearn: 0.1641138\ttotal: 75.5ms\tremaining: 26.5ms\n",
            "74:\tlearn: 0.1620984\ttotal: 75.8ms\tremaining: 25.3ms\n",
            "75:\tlearn: 0.1618958\ttotal: 76.2ms\tremaining: 24.1ms\n",
            "76:\tlearn: 0.1617923\ttotal: 76.6ms\tremaining: 22.9ms\n",
            "77:\tlearn: 0.1614754\ttotal: 77ms\tremaining: 21.7ms\n",
            "78:\tlearn: 0.1587853\ttotal: 77.4ms\tremaining: 20.6ms\n",
            "79:\tlearn: 0.1573850\ttotal: 77.9ms\tremaining: 19.5ms\n",
            "80:\tlearn: 0.1557666\ttotal: 78.3ms\tremaining: 18.4ms\n",
            "81:\tlearn: 0.1549886\ttotal: 78.7ms\tremaining: 17.3ms\n",
            "82:\tlearn: 0.1521165\ttotal: 79.1ms\tremaining: 16.2ms\n",
            "83:\tlearn: 0.1519680\ttotal: 79.5ms\tremaining: 15.1ms\n",
            "84:\tlearn: 0.1508004\ttotal: 79.9ms\tremaining: 14.1ms\n",
            "85:\tlearn: 0.1484030\ttotal: 80.3ms\tremaining: 13.1ms\n",
            "86:\tlearn: 0.1480710\ttotal: 80.7ms\tremaining: 12.1ms\n",
            "87:\tlearn: 0.1472808\ttotal: 81.2ms\tremaining: 11.1ms\n",
            "88:\tlearn: 0.1465891\ttotal: 81.6ms\tremaining: 10.1ms\n",
            "89:\tlearn: 0.1459273\ttotal: 82ms\tremaining: 9.11ms\n",
            "90:\tlearn: 0.1437723\ttotal: 82.4ms\tremaining: 8.15ms\n",
            "91:\tlearn: 0.1432800\ttotal: 82.8ms\tremaining: 7.2ms\n",
            "92:\tlearn: 0.1428155\ttotal: 83.2ms\tremaining: 6.26ms\n",
            "93:\tlearn: 0.1417382\ttotal: 83.6ms\tremaining: 5.33ms\n",
            "94:\tlearn: 0.1414341\ttotal: 84.4ms\tremaining: 4.44ms\n",
            "95:\tlearn: 0.1413201\ttotal: 85ms\tremaining: 3.54ms\n",
            "96:\tlearn: 0.1396844\ttotal: 85.5ms\tremaining: 2.64ms\n",
            "97:\tlearn: 0.1386870\ttotal: 85.9ms\tremaining: 1.75ms\n",
            "98:\tlearn: 0.1376217\ttotal: 86.4ms\tremaining: 872us\n",
            "99:\tlearn: 0.1374268\ttotal: 86.7ms\tremaining: 0us\n"
          ]
        },
        {
          "output_type": "execute_result",
          "data": {
            "text/plain": [
              "<catboost.core.CatBoostClassifier at 0x7d4cd4d42440>"
            ]
          },
          "metadata": {},
          "execution_count": 76
        }
      ]
    },
    {
      "cell_type": "code",
      "source": [
        "# accuracy on test data\n",
        "y_predCAT = CAT.predict(x_test)\n",
        "y_predCAT"
      ],
      "metadata": {
        "colab": {
          "base_uri": "https://localhost:8080/"
        },
        "id": "sOgmrJEPFN3s",
        "outputId": "9d48945d-cb57-464f-ebba-b0fec4e3240f"
      },
      "execution_count": null,
      "outputs": [
        {
          "output_type": "execute_result",
          "data": {
            "text/plain": [
              "array([0, 1, 1, 0, 1, 1, 0, 1, 1, 0, 0, 0, 1, 0, 1, 0, 0, 1, 0, 0, 1, 0,\n",
              "       1, 0, 0, 1, 0, 0, 1, 1, 0, 1, 1, 0, 0, 0, 0, 0, 1, 1, 1, 0, 1, 0,\n",
              "       0, 0, 0, 1, 1, 1, 1, 1, 0, 0, 0, 0, 1, 1, 1, 0, 1, 1, 1, 1, 1, 1,\n",
              "       1, 1, 0, 1, 1, 1, 1, 0, 0, 0, 0, 0, 1, 1, 1, 1, 0, 1, 1, 1, 0, 1,\n",
              "       1, 0, 1, 1, 0, 0, 1, 0, 0, 1, 0, 0, 1, 1, 0, 1, 0, 0, 0, 1, 0, 1,\n",
              "       1, 0, 0, 0, 1, 1, 1, 0, 1, 0, 0, 1, 1, 1, 0, 1, 1, 0, 1, 0, 1, 1,\n",
              "       0, 0, 1, 0, 1, 1, 0, 1, 1, 0, 0, 0, 0, 0, 1, 1, 0, 1, 0, 1, 1, 0,\n",
              "       1, 0, 1, 1, 1, 0, 0, 0, 0, 0, 0, 1, 0, 0, 0, 1, 1, 0, 0, 1, 0, 1,\n",
              "       0, 0, 0, 1, 1, 1, 0, 1, 0, 1, 0, 1, 1, 1, 0, 1, 1, 0, 0, 0, 1, 0,\n",
              "       1, 1, 0, 1, 1, 0, 0, 0, 1, 1, 1, 0, 0, 0, 1, 1, 1, 1, 1, 1, 1, 1,\n",
              "       1, 1, 0, 0, 0, 1, 1, 1, 1, 0, 1, 1, 0, 1, 0, 1, 1, 1, 0, 1, 1, 0,\n",
              "       0, 0, 0, 1, 0, 0, 1, 0, 1, 0, 1, 0, 0, 1, 1, 0, 1, 1, 1, 1, 1, 1,\n",
              "       0, 1, 1, 0, 0, 1, 1, 0, 0, 0, 1, 0, 0, 1, 0, 1, 1, 1, 1, 1, 0, 1,\n",
              "       1, 0, 0, 0, 0, 1, 0, 0, 0, 1, 0, 1, 1, 1, 0, 1, 0, 0, 0, 0, 1, 1,\n",
              "       1, 0, 1, 1, 1, 1, 0, 0, 1, 1, 0, 1])"
            ]
          },
          "metadata": {},
          "execution_count": 77
        }
      ]
    },
    {
      "cell_type": "code",
      "source": [
        "CATac = accuracy_score(y_predCAT, y_test)"
      ],
      "metadata": {
        "id": "X2-RGUKiFQpf"
      },
      "execution_count": null,
      "outputs": []
    },
    {
      "cell_type": "code",
      "source": [
        "print(\"Accuracy : \", CATac)\n",
        "print(classification_report(y_test, y_predCAT))"
      ],
      "metadata": {
        "colab": {
          "base_uri": "https://localhost:8080/"
        },
        "id": "bPmvRkv9FSks",
        "outputId": "aa69b694-d00c-4fac-8287-5478f831fafc"
      },
      "execution_count": null,
      "outputs": [
        {
          "output_type": "stream",
          "name": "stdout",
          "text": [
            "Accuracy :  0.903125\n",
            "              precision    recall  f1-score   support\n",
            "\n",
            "           0       0.88      0.91      0.89       144\n",
            "           1       0.92      0.90      0.91       176\n",
            "\n",
            "    accuracy                           0.90       320\n",
            "   macro avg       0.90      0.90      0.90       320\n",
            "weighted avg       0.90      0.90      0.90       320\n",
            "\n"
          ]
        }
      ]
    },
    {
      "cell_type": "code",
      "source": [
        "comparison = pd.DataFrame({'Model': ['KNN', 'Decision Tree', 'Naive Bayes', 'SVM', 'Logistic Regression', 'ADA BOOST', 'ANN', 'Random Forest', 'CatBoost Classifier'],\n",
        "                        'Accuracy': [knn_ac*100, clfac*100, nbac*100, svac*100, lrac*100,\n",
        "                                     adaac*100, mlpac*100, rfcac*100, CATac*100]})\n",
        "\n",
        "comparison.style.hide_index()"
      ],
      "metadata": {
        "colab": {
          "base_uri": "https://localhost:8080/",
          "height": 368
        },
        "id": "i2_wZXSBFWXK",
        "outputId": "8c2cce6e-9f39-42d6-8837-9acc40e08edc"
      },
      "execution_count": null,
      "outputs": [
        {
          "output_type": "stream",
          "name": "stderr",
          "text": [
            "<ipython-input-80-42887b979e74>:5: FutureWarning: this method is deprecated in favour of `Styler.hide(axis=\"index\")`\n",
            "  comparison.style.hide_index()\n"
          ]
        },
        {
          "output_type": "execute_result",
          "data": {
            "text/plain": [
              "<pandas.io.formats.style.Styler at 0x7d4cd48b3ac0>"
            ],
            "text/html": [
              "<style type=\"text/css\">\n",
              "</style>\n",
              "<table id=\"T_c750c\" class=\"dataframe\">\n",
              "  <thead>\n",
              "    <tr>\n",
              "      <th id=\"T_c750c_level0_col0\" class=\"col_heading level0 col0\" >Model</th>\n",
              "      <th id=\"T_c750c_level0_col1\" class=\"col_heading level0 col1\" >Accuracy</th>\n",
              "    </tr>\n",
              "  </thead>\n",
              "  <tbody>\n",
              "    <tr>\n",
              "      <td id=\"T_c750c_row0_col0\" class=\"data row0 col0\" >KNN</td>\n",
              "      <td id=\"T_c750c_row0_col1\" class=\"data row0 col1\" >85.937500</td>\n",
              "    </tr>\n",
              "    <tr>\n",
              "      <td id=\"T_c750c_row1_col0\" class=\"data row1 col0\" >Decision Tree</td>\n",
              "      <td id=\"T_c750c_row1_col1\" class=\"data row1 col1\" >91.562500</td>\n",
              "    </tr>\n",
              "    <tr>\n",
              "      <td id=\"T_c750c_row2_col0\" class=\"data row2 col0\" >Naive Bayes</td>\n",
              "      <td id=\"T_c750c_row2_col1\" class=\"data row2 col1\" >73.437500</td>\n",
              "    </tr>\n",
              "    <tr>\n",
              "      <td id=\"T_c750c_row3_col0\" class=\"data row3 col0\" >SVM</td>\n",
              "      <td id=\"T_c750c_row3_col1\" class=\"data row3 col1\" >90.312500</td>\n",
              "    </tr>\n",
              "    <tr>\n",
              "      <td id=\"T_c750c_row4_col0\" class=\"data row4 col0\" >Logistic Regression</td>\n",
              "      <td id=\"T_c750c_row4_col1\" class=\"data row4 col1\" >75.625000</td>\n",
              "    </tr>\n",
              "    <tr>\n",
              "      <td id=\"T_c750c_row5_col0\" class=\"data row5 col0\" >ADA BOOST</td>\n",
              "      <td id=\"T_c750c_row5_col1\" class=\"data row5 col1\" >84.375000</td>\n",
              "    </tr>\n",
              "    <tr>\n",
              "      <td id=\"T_c750c_row6_col0\" class=\"data row6 col0\" >ANN</td>\n",
              "      <td id=\"T_c750c_row6_col1\" class=\"data row6 col1\" >84.375000</td>\n",
              "    </tr>\n",
              "    <tr>\n",
              "      <td id=\"T_c750c_row7_col0\" class=\"data row7 col0\" >Random Forest</td>\n",
              "      <td id=\"T_c750c_row7_col1\" class=\"data row7 col1\" >97.812500</td>\n",
              "    </tr>\n",
              "    <tr>\n",
              "      <td id=\"T_c750c_row8_col0\" class=\"data row8 col0\" >CatBoost Classifier</td>\n",
              "      <td id=\"T_c750c_row8_col1\" class=\"data row8 col1\" >90.312500</td>\n",
              "    </tr>\n",
              "  </tbody>\n",
              "</table>\n"
            ]
          },
          "metadata": {},
          "execution_count": 80
        }
      ]
    },
    {
      "cell_type": "markdown",
      "source": [],
      "metadata": {
        "id": "fwZM8mLQ-rVG"
      }
    },
    {
      "cell_type": "code",
      "source": [
        "# Given data for model comparison\n",
        "comparison_data = {\n",
        "    'Model': ['KNN', 'Decision Tree', 'Naive Bayes', 'SVM', 'Logistic Regression', 'ADA BOOST', 'ANN', 'Random Forest', 'CatBoost Classifier'],\n",
        "    'Accuracy': [\t85.937500, \t91.562500, 73.437500, 90.312500, 75.625000, 84.375000, \t84.375000, 97.812500 , 90.312500]\n",
        "}\n",
        "\n",
        "# Create a DataFrame\n",
        "comparison = pd.DataFrame(comparison_data)\n",
        "\n",
        "# Set up the plotting environment (if using Jupyter or Colab)\n",
        "plt.style.use('seaborn-darkgrid')\n",
        "\n",
        "# Plotting the bar graph\n",
        "fig, ax = plt.subplots(figsize=(12, 6))\n",
        "ax.bar(comparison['Model'], comparison['Accuracy'], color='blue')\n",
        "\n",
        "# Adding labels and title\n",
        "ax.set_ylabel('Accuracy (%)')\n",
        "ax.set_xlabel('Model')\n",
        "ax.set_title('Model Comparison Based on Accuracy')\n",
        "\n",
        "# Rotating x-axis labels for better readability\n",
        "plt.xticks(rotation=45, ha='right')\n",
        "\n",
        "# Display the plot\n",
        "plt.show()"
      ],
      "metadata": {
        "colab": {
          "base_uri": "https://localhost:8080/",
          "height": 695
        },
        "id": "te9cVceXJdgE",
        "outputId": "8005d7ed-7272-453e-df29-432853259030"
      },
      "execution_count": null,
      "outputs": [
        {
          "output_type": "stream",
          "name": "stderr",
          "text": [
            "<ipython-input-81-a66aa9f122c1>:11: MatplotlibDeprecationWarning: The seaborn styles shipped by Matplotlib are deprecated since 3.6, as they no longer correspond to the styles shipped by seaborn. However, they will remain available as 'seaborn-v0_8-<style>'. Alternatively, directly use the seaborn API instead.\n",
            "  plt.style.use('seaborn-darkgrid')\n"
          ]
        },
        {
          "output_type": "display_data",
          "data": {
            "text/plain": [
              "<Figure size 1200x600 with 1 Axes>"
            ],
            "image/png": "[encoded data removed]"
          },
          "metadata": {}
        }
      ]
    }
  ]
}